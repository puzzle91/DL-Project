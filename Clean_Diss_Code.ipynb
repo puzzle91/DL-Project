{
  "nbformat": 4,
  "nbformat_minor": 0,
  "metadata": {
    "colab": {
      "name": "Clean-Diss-Code.ipynb",
      "version": "0.3.2",
      "provenance": [],
      "collapsed_sections": [],
      "include_colab_link": true
    },
    "kernelspec": {
      "name": "python3",
      "display_name": "Python 3"
    },
    "accelerator": "GPU"
  },
  "cells": [
    {
      "cell_type": "markdown",
      "metadata": {
        "id": "view-in-github",
        "colab_type": "text"
      },
      "source": [
        "<a href=\"https://colab.research.google.com/github/puzzle91/DL-Project/blob/master/Clean_Diss_Code.ipynb\" target=\"_parent\"><img src=\"https://colab.research.google.com/assets/colab-badge.svg\" alt=\"Open In Colab\"/></a>"
      ]
    },
    {
      "cell_type": "code",
      "metadata": {
        "id": "CNgOtZ37YUpS",
        "colab_type": "code",
        "outputId": "98cb8f06-631c-41b6-8202-48164d5006b2",
        "colab": {
          "base_uri": "https://localhost:8080/",
          "height": 513
        }
      },
      "source": [
        "!pip install catboost\n",
        "import os\n",
        "import numpy as np # linear algebra\n",
        "import pandas as pd # data processing, CSV file I/O (e.g. pd.read_csv)\n",
        "import tensorflow as tf\n",
        "import matplotlib.pyplot as plt\n",
        "import seaborn as sns\n",
        "from sklearn.manifold import TSNE\n",
        "from sklearn.decomposition import PCA, TruncatedSVD\n",
        "import matplotlib.patches as mpatches\n",
        "import time\n",
        "import timeit\n",
        "from scipy.stats import uniform as sp_randFloat\n",
        "from scipy.stats import randint as sp_randInt\n",
        "\n",
        "# Classifier Libraries\n",
        "from sklearn.linear_model import LogisticRegression\n",
        "from sklearn.svm import SVC\n",
        "from sklearn.neighbors import KNeighborsClassifier\n",
        "from sklearn.tree import DecisionTreeClassifier\n",
        "from sklearn.ensemble import RandomForestClassifier\n",
        "from catboost import CatBoostClassifier\n",
        "\n",
        "\n",
        "import collections\n",
        "\n",
        "\n",
        "# Other Libraries\n",
        "from sklearn.model_selection import train_test_split\n",
        "from sklearn.pipeline import make_pipeline\n",
        "from imblearn.pipeline import make_pipeline as imbalanced_make_pipeline\n",
        "from imblearn.over_sampling import SMOTE\n",
        "from imblearn.under_sampling import NearMiss\n",
        "from imblearn.metrics import classification_report_imbalanced\n",
        "from sklearn.metrics import precision_score, recall_score, f1_score, roc_auc_score, accuracy_score, classification_report\n",
        "from collections import Counter\n",
        "from sklearn.model_selection import KFold, StratifiedKFold\n",
        "from keras.callbacks import ModelCheckpoint, ReduceLROnPlateau, TensorBoard\n",
        "import warnings\n",
        "warnings.filterwarnings(\"ignore\")\n",
        "\n",
        "\n"
      ],
      "execution_count": 0,
      "outputs": [
        {
          "output_type": "stream",
          "text": [
            "Requirement already satisfied: catboost in /usr/local/lib/python3.6/dist-packages (0.16.5)\n",
            "Requirement already satisfied: graphviz in /usr/local/lib/python3.6/dist-packages (from catboost) (0.10.1)\n",
            "Requirement already satisfied: pandas>=0.19.1 in /usr/local/lib/python3.6/dist-packages (from catboost) (0.24.2)\n",
            "Requirement already satisfied: six in /usr/local/lib/python3.6/dist-packages (from catboost) (1.12.0)\n",
            "Requirement already satisfied: matplotlib in /usr/local/lib/python3.6/dist-packages (from catboost) (3.0.3)\n",
            "Requirement already satisfied: plotly in /usr/local/lib/python3.6/dist-packages (from catboost) (3.6.1)\n",
            "Requirement already satisfied: numpy>=1.16.0 in /usr/local/lib/python3.6/dist-packages (from catboost) (1.16.4)\n",
            "Requirement already satisfied: python-dateutil>=2.5.0 in /usr/local/lib/python3.6/dist-packages (from pandas>=0.19.1->catboost) (2.5.3)\n",
            "Requirement already satisfied: pytz>=2011k in /usr/local/lib/python3.6/dist-packages (from pandas>=0.19.1->catboost) (2018.9)\n",
            "Requirement already satisfied: pyparsing!=2.0.4,!=2.1.2,!=2.1.6,>=2.0.1 in /usr/local/lib/python3.6/dist-packages (from matplotlib->catboost) (2.4.2)\n",
            "Requirement already satisfied: cycler>=0.10 in /usr/local/lib/python3.6/dist-packages (from matplotlib->catboost) (0.10.0)\n",
            "Requirement already satisfied: kiwisolver>=1.0.1 in /usr/local/lib/python3.6/dist-packages (from matplotlib->catboost) (1.1.0)\n",
            "Requirement already satisfied: requests in /usr/local/lib/python3.6/dist-packages (from plotly->catboost) (2.21.0)\n",
            "Requirement already satisfied: retrying>=1.3.3 in /usr/local/lib/python3.6/dist-packages (from plotly->catboost) (1.3.3)\n",
            "Requirement already satisfied: decorator>=4.0.6 in /usr/local/lib/python3.6/dist-packages (from plotly->catboost) (4.4.0)\n",
            "Requirement already satisfied: nbformat>=4.2 in /usr/local/lib/python3.6/dist-packages (from plotly->catboost) (4.4.0)\n",
            "Requirement already satisfied: setuptools in /usr/local/lib/python3.6/dist-packages (from kiwisolver>=1.0.1->matplotlib->catboost) (41.2.0)\n",
            "Requirement already satisfied: certifi>=2017.4.17 in /usr/local/lib/python3.6/dist-packages (from requests->plotly->catboost) (2019.6.16)\n",
            "Requirement already satisfied: idna<2.9,>=2.5 in /usr/local/lib/python3.6/dist-packages (from requests->plotly->catboost) (2.8)\n",
            "Requirement already satisfied: chardet<3.1.0,>=3.0.2 in /usr/local/lib/python3.6/dist-packages (from requests->plotly->catboost) (3.0.4)\n",
            "Requirement already satisfied: urllib3<1.25,>=1.21.1 in /usr/local/lib/python3.6/dist-packages (from requests->plotly->catboost) (1.24.3)\n",
            "Requirement already satisfied: jsonschema!=2.5.0,>=2.4 in /usr/local/lib/python3.6/dist-packages (from nbformat>=4.2->plotly->catboost) (2.6.0)\n",
            "Requirement already satisfied: jupyter-core in /usr/local/lib/python3.6/dist-packages (from nbformat>=4.2->plotly->catboost) (4.5.0)\n",
            "Requirement already satisfied: traitlets>=4.1 in /usr/local/lib/python3.6/dist-packages (from nbformat>=4.2->plotly->catboost) (4.3.2)\n",
            "Requirement already satisfied: ipython-genutils in /usr/local/lib/python3.6/dist-packages (from nbformat>=4.2->plotly->catboost) (0.2.0)\n"
          ],
          "name": "stdout"
        },
        {
          "output_type": "stream",
          "text": [
            "/usr/local/lib/python3.6/dist-packages/sklearn/externals/six.py:31: DeprecationWarning: The module is deprecated in version 0.21 and will be removed in version 0.23 since we've dropped support for Python 2.7. Please rely on the official version of six (https://pypi.org/project/six/).\n",
            "  \"(https://pypi.org/project/six/).\", DeprecationWarning)\n",
            "Using TensorFlow backend.\n"
          ],
          "name": "stderr"
        }
      ]
    },
    {
      "cell_type": "code",
      "metadata": {
        "id": "D18AdvS5iOAA",
        "colab_type": "code",
        "outputId": "ae3842d3-ee25-45db-866c-299b991cbfcb",
        "colab": {
          "base_uri": "https://localhost:8080/",
          "height": 71
        }
      },
      "source": [
        "from google.colab import drive\n",
        "wd = os.getcwd()\n",
        "print(wd)\n",
        "drive.mount('/content/drive')\n"
      ],
      "execution_count": 0,
      "outputs": [
        {
          "output_type": "stream",
          "text": [
            "/content\n",
            "Drive already mounted at /content/drive; to attempt to forcibly remount, call drive.mount(\"/content/drive\", force_remount=True).\n"
          ],
          "name": "stdout"
        }
      ]
    },
    {
      "cell_type": "code",
      "metadata": {
        "id": "9FmlOMDQiPd6",
        "colab_type": "code",
        "outputId": "4fcdb31b-0b1b-4abb-971c-04c2efac9058",
        "colab": {
          "base_uri": "https://localhost:8080/",
          "height": 34
        }
      },
      "source": [
        "cd = os.chdir(\"drive/My Drive/Dissertation\")\n",
        "wd = os.getcwd()\n",
        "print(wd)"
      ],
      "execution_count": 0,
      "outputs": [
        {
          "output_type": "stream",
          "text": [
            "/content/drive/My Drive/Dissertation\n"
          ],
          "name": "stdout"
        }
      ]
    },
    {
      "cell_type": "code",
      "metadata": {
        "id": "CCkOxfdvifTp",
        "colab_type": "code",
        "outputId": "9028cf22-e8db-4a14-ffd5-1b61f2b49475",
        "colab": {
          "base_uri": "https://localhost:8080/",
          "height": 224
        }
      },
      "source": [
        "df = pd.read_csv('Diss-Data/unfriendly-CC.csv')\n",
        "df.head()"
      ],
      "execution_count": 0,
      "outputs": [
        {
          "output_type": "execute_result",
          "data": {
            "text/html": [
              "<div>\n",
              "<style scoped>\n",
              "    .dataframe tbody tr th:only-of-type {\n",
              "        vertical-align: middle;\n",
              "    }\n",
              "\n",
              "    .dataframe tbody tr th {\n",
              "        vertical-align: top;\n",
              "    }\n",
              "\n",
              "    .dataframe thead th {\n",
              "        text-align: right;\n",
              "    }\n",
              "</style>\n",
              "<table border=\"1\" class=\"dataframe\">\n",
              "  <thead>\n",
              "    <tr style=\"text-align: right;\">\n",
              "      <th></th>\n",
              "      <th>Time</th>\n",
              "      <th>V1</th>\n",
              "      <th>V2</th>\n",
              "      <th>V3</th>\n",
              "      <th>V4</th>\n",
              "      <th>V5</th>\n",
              "      <th>V6</th>\n",
              "      <th>V7</th>\n",
              "      <th>V8</th>\n",
              "      <th>V9</th>\n",
              "      <th>V10</th>\n",
              "      <th>V11</th>\n",
              "      <th>V12</th>\n",
              "      <th>V13</th>\n",
              "      <th>V14</th>\n",
              "      <th>V15</th>\n",
              "      <th>V16</th>\n",
              "      <th>V17</th>\n",
              "      <th>V18</th>\n",
              "      <th>V19</th>\n",
              "      <th>V20</th>\n",
              "      <th>V21</th>\n",
              "      <th>V22</th>\n",
              "      <th>V23</th>\n",
              "      <th>V24</th>\n",
              "      <th>V25</th>\n",
              "      <th>V26</th>\n",
              "      <th>V27</th>\n",
              "      <th>V28</th>\n",
              "      <th>Amount</th>\n",
              "      <th>Class</th>\n",
              "    </tr>\n",
              "  </thead>\n",
              "  <tbody>\n",
              "    <tr>\n",
              "      <th>0</th>\n",
              "      <td>0.0</td>\n",
              "      <td>-1.359807</td>\n",
              "      <td>-0.072781</td>\n",
              "      <td>2.536347</td>\n",
              "      <td>1.378155</td>\n",
              "      <td>-0.338321</td>\n",
              "      <td>0.462388</td>\n",
              "      <td>0.239599</td>\n",
              "      <td>0.098698</td>\n",
              "      <td>0.363787</td>\n",
              "      <td>0.090794</td>\n",
              "      <td>-0.551600</td>\n",
              "      <td>-0.617801</td>\n",
              "      <td>-0.991390</td>\n",
              "      <td>-0.311169</td>\n",
              "      <td>1.468177</td>\n",
              "      <td>-0.470401</td>\n",
              "      <td>0.207971</td>\n",
              "      <td>0.025791</td>\n",
              "      <td>0.403993</td>\n",
              "      <td>0.251412</td>\n",
              "      <td>-0.018307</td>\n",
              "      <td>0.277838</td>\n",
              "      <td>-0.110474</td>\n",
              "      <td>0.066928</td>\n",
              "      <td>0.128539</td>\n",
              "      <td>-0.189115</td>\n",
              "      <td>0.133558</td>\n",
              "      <td>-0.021053</td>\n",
              "      <td>149.62</td>\n",
              "      <td>0</td>\n",
              "    </tr>\n",
              "    <tr>\n",
              "      <th>1</th>\n",
              "      <td>0.0</td>\n",
              "      <td>1.191857</td>\n",
              "      <td>0.266151</td>\n",
              "      <td>0.166480</td>\n",
              "      <td>0.448154</td>\n",
              "      <td>0.060018</td>\n",
              "      <td>-0.082361</td>\n",
              "      <td>-0.078803</td>\n",
              "      <td>0.085102</td>\n",
              "      <td>-0.255425</td>\n",
              "      <td>-0.166974</td>\n",
              "      <td>1.612727</td>\n",
              "      <td>1.065235</td>\n",
              "      <td>0.489095</td>\n",
              "      <td>-0.143772</td>\n",
              "      <td>0.635558</td>\n",
              "      <td>0.463917</td>\n",
              "      <td>-0.114805</td>\n",
              "      <td>-0.183361</td>\n",
              "      <td>-0.145783</td>\n",
              "      <td>-0.069083</td>\n",
              "      <td>-0.225775</td>\n",
              "      <td>-0.638672</td>\n",
              "      <td>0.101288</td>\n",
              "      <td>-0.339846</td>\n",
              "      <td>0.167170</td>\n",
              "      <td>0.125895</td>\n",
              "      <td>-0.008983</td>\n",
              "      <td>0.014724</td>\n",
              "      <td>2.69</td>\n",
              "      <td>0</td>\n",
              "    </tr>\n",
              "    <tr>\n",
              "      <th>2</th>\n",
              "      <td>1.0</td>\n",
              "      <td>-1.358354</td>\n",
              "      <td>-1.340163</td>\n",
              "      <td>1.773209</td>\n",
              "      <td>0.379780</td>\n",
              "      <td>-0.503198</td>\n",
              "      <td>1.800499</td>\n",
              "      <td>0.791461</td>\n",
              "      <td>0.247676</td>\n",
              "      <td>-1.514654</td>\n",
              "      <td>0.207643</td>\n",
              "      <td>0.624501</td>\n",
              "      <td>0.066084</td>\n",
              "      <td>0.717293</td>\n",
              "      <td>-0.165946</td>\n",
              "      <td>2.345865</td>\n",
              "      <td>-2.890083</td>\n",
              "      <td>1.109969</td>\n",
              "      <td>-0.121359</td>\n",
              "      <td>-2.261857</td>\n",
              "      <td>0.524980</td>\n",
              "      <td>0.247998</td>\n",
              "      <td>0.771679</td>\n",
              "      <td>0.909412</td>\n",
              "      <td>-0.689281</td>\n",
              "      <td>-0.327642</td>\n",
              "      <td>-0.139097</td>\n",
              "      <td>-0.055353</td>\n",
              "      <td>-0.059752</td>\n",
              "      <td>378.66</td>\n",
              "      <td>0</td>\n",
              "    </tr>\n",
              "    <tr>\n",
              "      <th>3</th>\n",
              "      <td>1.0</td>\n",
              "      <td>-0.966272</td>\n",
              "      <td>-0.185226</td>\n",
              "      <td>1.792993</td>\n",
              "      <td>-0.863291</td>\n",
              "      <td>-0.010309</td>\n",
              "      <td>1.247203</td>\n",
              "      <td>0.237609</td>\n",
              "      <td>0.377436</td>\n",
              "      <td>-1.387024</td>\n",
              "      <td>-0.054952</td>\n",
              "      <td>-0.226487</td>\n",
              "      <td>0.178228</td>\n",
              "      <td>0.507757</td>\n",
              "      <td>-0.287924</td>\n",
              "      <td>-0.631418</td>\n",
              "      <td>-1.059647</td>\n",
              "      <td>-0.684093</td>\n",
              "      <td>1.965775</td>\n",
              "      <td>-1.232622</td>\n",
              "      <td>-0.208038</td>\n",
              "      <td>-0.108300</td>\n",
              "      <td>0.005274</td>\n",
              "      <td>-0.190321</td>\n",
              "      <td>-1.175575</td>\n",
              "      <td>0.647376</td>\n",
              "      <td>-0.221929</td>\n",
              "      <td>0.062723</td>\n",
              "      <td>0.061458</td>\n",
              "      <td>123.50</td>\n",
              "      <td>0</td>\n",
              "    </tr>\n",
              "    <tr>\n",
              "      <th>4</th>\n",
              "      <td>2.0</td>\n",
              "      <td>-1.158233</td>\n",
              "      <td>0.877737</td>\n",
              "      <td>1.548718</td>\n",
              "      <td>0.403034</td>\n",
              "      <td>-0.407193</td>\n",
              "      <td>0.095921</td>\n",
              "      <td>0.592941</td>\n",
              "      <td>-0.270533</td>\n",
              "      <td>0.817739</td>\n",
              "      <td>0.753074</td>\n",
              "      <td>-0.822843</td>\n",
              "      <td>0.538196</td>\n",
              "      <td>1.345852</td>\n",
              "      <td>-1.119670</td>\n",
              "      <td>0.175121</td>\n",
              "      <td>-0.451449</td>\n",
              "      <td>-0.237033</td>\n",
              "      <td>-0.038195</td>\n",
              "      <td>0.803487</td>\n",
              "      <td>0.408542</td>\n",
              "      <td>-0.009431</td>\n",
              "      <td>0.798278</td>\n",
              "      <td>-0.137458</td>\n",
              "      <td>0.141267</td>\n",
              "      <td>-0.206010</td>\n",
              "      <td>0.502292</td>\n",
              "      <td>0.219422</td>\n",
              "      <td>0.215153</td>\n",
              "      <td>69.99</td>\n",
              "      <td>0</td>\n",
              "    </tr>\n",
              "  </tbody>\n",
              "</table>\n",
              "</div>"
            ],
            "text/plain": [
              "   Time        V1        V2        V3  ...       V27       V28  Amount  Class\n",
              "0   0.0 -1.359807 -0.072781  2.536347  ...  0.133558 -0.021053  149.62      0\n",
              "1   0.0  1.191857  0.266151  0.166480  ... -0.008983  0.014724    2.69      0\n",
              "2   1.0 -1.358354 -1.340163  1.773209  ... -0.055353 -0.059752  378.66      0\n",
              "3   1.0 -0.966272 -0.185226  1.792993  ...  0.062723  0.061458  123.50      0\n",
              "4   2.0 -1.158233  0.877737  1.548718  ...  0.219422  0.215153   69.99      0\n",
              "\n",
              "[5 rows x 31 columns]"
            ]
          },
          "metadata": {
            "tags": []
          },
          "execution_count": 4
        }
      ]
    },
    {
      "cell_type": "code",
      "metadata": {
        "id": "WebpiKL1iStt",
        "colab_type": "code",
        "colab": {}
      },
      "source": [
        "import tensorflow as tf\n",
        "import os\n",
        "\n",
        "log_dir = 'Dissertations/logs'\n",
        "\n",
        "if not os.path.exists(log_dir):\n",
        "    os.makedirs(log_dir)"
      ],
      "execution_count": 0,
      "outputs": []
    },
    {
      "cell_type": "code",
      "metadata": {
        "id": "WvVZLoW0iaD1",
        "colab_type": "code",
        "colab": {}
      },
      "source": [
        "# Since most of our data has already been scaled we should scale the columns that are left to scale (Amount and Time)\n",
        "from sklearn.preprocessing import StandardScaler, RobustScaler\n",
        "\n",
        "# RobustScaler is less prone to outliers.\n",
        "\n",
        "std_scaler = StandardScaler()\n",
        "rob_scaler = RobustScaler()\n",
        "\n",
        "df['scaled_amount'] = rob_scaler.fit_transform(df['Amount'].values.reshape(-1,1))\n",
        "df['scaled_time'] = rob_scaler.fit_transform(df['Time'].values.reshape(-1,1))\n",
        "\n",
        "df.drop(['Time','Amount'], axis=1, inplace=True)"
      ],
      "execution_count": 0,
      "outputs": []
    },
    {
      "cell_type": "code",
      "metadata": {
        "id": "bslE_nE2oH1s",
        "colab_type": "code",
        "colab": {}
      },
      "source": [
        "scaled_amount = df['scaled_amount']\n",
        "scaled_time = df['scaled_time']\n",
        "\n",
        "df.drop(['scaled_amount', 'scaled_time'], axis=1, inplace=True)\n",
        "df.insert(0, 'scaled_amount', scaled_amount)\n",
        "df.insert(1, 'scaled_time', scaled_time)\n",
        "\n",
        "# Amount and Time are Scaled!\n",
        "\n",
        "df.head()"
      ],
      "execution_count": 0,
      "outputs": []
    },
    {
      "cell_type": "code",
      "metadata": {
        "id": "bh0khoaqimXL",
        "colab_type": "code",
        "outputId": "d91316c1-2718-4d8b-bc1d-2d3f40abb38b",
        "colab": {
          "base_uri": "https://localhost:8080/",
          "height": 221
        }
      },
      "source": [
        "from sklearn.model_selection import train_test_split\n",
        "from sklearn.model_selection import StratifiedShuffleSplit\n",
        "\n",
        "print('No Frauds', round(df['Class'].value_counts()[0]/len(df) * 100,2), '% of the dataset')\n",
        "print('Frauds', round(df['Class'].value_counts()[1]/len(df) * 100,2), '% of the dataset')\n",
        "\n",
        "X = df.drop('Class', axis=1)\n",
        "y = df['Class']\n",
        "\n",
        "sss = StratifiedKFold(n_splits=5, random_state=None, shuffle=False)\n",
        "\n",
        "for train_index, test_index in sss.split(X, y):\n",
        "    print(\"Train:\", train_index, \"Test:\", test_index)\n",
        "    original_Xtrain, original_Xtest = X.iloc[train_index], X.iloc[test_index]\n",
        "    original_ytrain, original_ytest = y.iloc[train_index], y.iloc[test_index]\n",
        "\n",
        "# We already have X_train and y_train for undersample data thats why I am using original\n",
        "#to distinguish and to not overwrite these variables.\n",
        "# original_Xtrain, original_Xtest, original_ytrain, original_ytest \n",
        "#= train_test_split(X, y, test_size=0.2, random_state=42)\n",
        "\n",
        "# Check the Distribution of the labels\n",
        "\n",
        "\n",
        "# Turn into an array\n",
        "original_Xtrain = original_Xtrain.values\n",
        "original_Xtest = original_Xtest.values\n",
        "original_ytrain = original_ytrain.values\n",
        "original_ytest = original_ytest.values\n",
        "\n",
        "# See if both the train and test label distribution are similarly distributed\n",
        "train_unique_label, train_counts_label = np.unique(original_ytrain, return_counts=True)\n",
        "test_unique_label, test_counts_label = np.unique(original_ytest, return_counts=True)\n",
        "print('-' * 100)\n",
        "\n",
        "print('Label Distributions: \\n')\n",
        "print(train_counts_label/ len(original_ytrain))\n",
        "print(test_counts_label/ len(original_ytest))"
      ],
      "execution_count": 0,
      "outputs": [
        {
          "output_type": "stream",
          "text": [
            "No Frauds 99.83 % of the dataset\n",
            "Frauds 0.17 % of the dataset\n",
            "Train: [ 30473  30496  31002 ... 284804 284805 284806] Test: [    0     1     2 ... 57017 57018 57019]\n",
            "Train: [     0      1      2 ... 284804 284805 284806] Test: [ 30473  30496  31002 ... 113964 113965 113966]\n",
            "Train: [     0      1      2 ... 284804 284805 284806] Test: [ 81609  82400  83053 ... 170946 170947 170948]\n",
            "Train: [     0      1      2 ... 284804 284805 284806] Test: [150654 150660 150661 ... 227866 227867 227868]\n",
            "Train: [     0      1      2 ... 227866 227867 227868] Test: [212516 212644 213092 ... 284804 284805 284806]\n",
            "----------------------------------------------------------------------------------------------------\n",
            "Label Distributions: \n",
            "\n",
            "[0.99827076 0.00172924]\n",
            "[0.99827952 0.00172048]\n"
          ],
          "name": "stdout"
        }
      ]
    },
    {
      "cell_type": "code",
      "metadata": {
        "id": "wIGzY6Ckiulw",
        "colab_type": "code",
        "outputId": "ffee0641-5b31-471c-c42f-c5302ff4c5bb",
        "colab": {
          "base_uri": "https://localhost:8080/",
          "height": 207
        }
      },
      "source": [
        "from imblearn.over_sampling import SMOTE\n",
        "from sklearn.model_selection import train_test_split, RandomizedSearchCV\n",
        "\n",
        "\n",
        "print('Length of X (train): {} | Length of y (train): {}'.format(len(original_Xtrain), len(original_ytrain)))\n",
        "print('Length of X (test): {} | Length of y (test): {}'.format(len(original_Xtest), len(original_ytest)))\n",
        "\n",
        "# List to append the score and then find the average\n",
        "accuracy_lst = []\n",
        "precision_lst = []\n",
        "recall_lst = []\n",
        "f1_lst = []\n",
        "auc_lst = []\n",
        "\n",
        "t0 = time.time()\n",
        "\n",
        "\n",
        "catboost_model = CatBoostClassifier(task_type='GPU')\n",
        "parameters = {'depth': sp_randInt(4, 10),\n",
        "                    'learning_rate' : sp_randFloat(),\n",
        "                    'iterations'    : sp_randInt(10, 100)\n",
        "                         }\n",
        "rand_catboost = RandomizedSearchCV(estimator=catboost_model, param_distributions = parameters,\n",
        "                             n_jobs=-1, cv = 5)\n",
        "\n",
        "\n",
        "# Parameters\n",
        "log_reg_params = {\"penalty\": ['l1', 'l2'], 'C': [0.001, 0.01, 0.1, 1, 10, 100, 1000]}\n",
        "# Classifier with optimal parameters\n",
        "# log_reg_sm = grid_log_reg.best_estimator_\n",
        "log_reg_sm = LogisticRegression()\n",
        "\n",
        "rand_log_reg = RandomizedSearchCV(LogisticRegression(), log_reg_params, n_iter=4)\n",
        "\n",
        "\n",
        "# Implementing SMOTE Technique \n",
        "# Cross Validating the right way\n",
        "\n",
        "for train, test in sss.split(original_Xtrain, original_ytrain):\n",
        "    pipeline = imbalanced_make_pipeline(SMOTE(sampling_strategy='minority'), rand_log_reg) # SMOTE happens during Cross Validation not before..\n",
        "    model = pipeline.fit(original_Xtrain[train], original_ytrain[train])\n",
        "    log_reg_best_est = rand_log_reg.best_estimator_\n",
        "    prediction = log_reg_best_est.predict(original_Xtrain[test])\n",
        "    \n",
        "    accuracy_lst.append(pipeline.score(original_Xtrain[test], original_ytrain[test]))\n",
        "    precision_lst.append(precision_score(original_ytrain[test], prediction))\n",
        "    recall_lst.append(recall_score(original_ytrain[test], prediction))\n",
        "    f1_lst.append(f1_score(original_ytrain[test], prediction))\n",
        "    auc_lst.append(roc_auc_score(original_ytrain[test], prediction))\n",
        "    \n",
        "print('---' * 15)\n",
        "print('')\n",
        "print(\"accuracy: {}\".format(np.mean(accuracy_lst)))\n",
        "print(\"precision: {}\".format(np.mean(precision_lst)))\n",
        "print(\"recall: {}\".format(np.mean(recall_lst)))\n",
        "print(\"f1: {}\".format(np.mean(f1_lst)))\n",
        "print('---' * 45)\n",
        "\n",
        "t1 = time.time()\n",
        "print(\"Fitting Log Regression model with oversample data from SMOTE X_train, y_train took :{} sec\".format(t1 - t0))"
      ],
      "execution_count": 0,
      "outputs": [
        {
          "output_type": "stream",
          "text": [
            "Length of X (train): 227846 | Length of y (train): 227846\n",
            "Length of X (test): 56961 | Length of y (test): 56961\n",
            "---------------------------------------------\n",
            "\n",
            "accuracy: 0.9462185714758503\n",
            "precision: 0.05485517770713094\n",
            "recall: 0.9136319376825707\n",
            "f1: 0.1020559863862935\n",
            "---------------------------------------------------------------------------------------------------------------------------------------\n",
            "Fitting Regression model with oversample data from SMOTE X_train, y_train took :388.56642484664917 sec\n"
          ],
          "name": "stdout"
        }
      ]
    },
    {
      "cell_type": "code",
      "metadata": {
        "id": "lk8pZ9g-k1Hp",
        "colab_type": "code",
        "outputId": "f9362372-2cee-4e66-c913-2ce203833ad7",
        "colab": {
          "base_uri": "https://localhost:8080/",
          "height": 204
        }
      },
      "source": [
        "log_reg_pred  = log_reg_best_est.predict(original_Xtest)\n",
        "\n",
        "print('Log Regression Model AUC score: ', roc_auc_score(original_ytest, log_reg_pred))\n",
        "\n",
        "\n",
        "print('Log Regression Model Classification Report:')\n",
        "\n",
        "\n",
        "print(classification_report(original_ytest, log_reg_pred))"
      ],
      "execution_count": 0,
      "outputs": [
        {
          "output_type": "stream",
          "text": [
            "CatBoostClassifer AUC score:  0.9217324884335317\n",
            "CatboostClassifer Classification Report:\n",
            "              precision    recall  f1-score   support\n",
            "\n",
            "           0       1.00      0.98      0.99     56863\n",
            "           1       0.06      0.87      0.11        98\n",
            "\n",
            "    accuracy                           0.98     56961\n",
            "   macro avg       0.53      0.92      0.55     56961\n",
            "weighted avg       1.00      0.98      0.99     56961\n",
            "\n"
          ],
          "name": "stdout"
        }
      ]
    },
    {
      "cell_type": "code",
      "metadata": {
        "id": "MervpFD1kHzn",
        "colab_type": "code",
        "outputId": "37f2f849-be0a-4012-d14f-c0d86b84033f",
        "colab": {
          "base_uri": "https://localhost:8080/",
          "height": 1000
        }
      },
      "source": [
        "\n",
        "# List to append the score and then find the average\n",
        "accuracy_lst = []\n",
        "precision_lst = []\n",
        "recall_lst = []\n",
        "f1_lst = []\n",
        "auc_lst = []\n",
        "\n",
        "t0 = time.time()\n",
        "\n",
        "\n",
        "catboost_model = CatBoostClassifier(task_type='GPU')\n",
        "\n",
        "parameters = {'depth': sp_randInt(4, 10),\n",
        "                    'learning_rate' : sp_randFloat(),\n",
        "                    'iterations'    : sp_randInt(10, 100)}\n",
        "                         \n",
        "rand_catboost = RandomizedSearchCV(estimator=catboost_model, param_distributions = parameters,\n",
        "                             n_jobs=-1)\n",
        "\n",
        "\n",
        "\n",
        "# Implementing SMOTE Technique \n",
        "# Cross Validating the right way\n",
        "# Parameters:\n",
        "\n",
        "\n",
        "for train, test in sss.split(original_Xtrain, original_ytrain):\n",
        "    pipeline = imbalanced_make_pipeline(SMOTE(sampling_strategy='minority'), rand_catboost) # SMOTE happens during Cross Validation not before..\n",
        "    model = pipeline.fit(original_Xtrain[train], original_ytrain[train])\n",
        "    catboost_best_est = rand_catboost.best_estimator_\n",
        "    prediction = catboost_best_est.predict(original_Xtrain[test])\n",
        "    \n",
        "    accuracy_lst.append(pipeline.score(original_Xtrain[test], original_ytrain[test]))\n",
        "    precision_lst.append(precision_score(original_ytrain[test], prediction))\n",
        "    recall_lst.append(recall_score(original_ytrain[test], prediction))\n",
        "    f1_lst.append(f1_score(original_ytrain[test], prediction))\n",
        "    auc_lst.append(roc_auc_score(original_ytrain[test], prediction))\n",
        "    \n",
        "print('---' * 15)\n",
        "print('')\n",
        "print(\"accuracy: {}\".format(np.mean(accuracy_lst)))\n",
        "print(\"precision: {}\".format(np.mean(precision_lst)))\n",
        "print(\"recall: {}\".format(np.mean(recall_lst)))\n",
        "print(\"f1: {}\".format(np.mean(f1_lst)))\n",
        "print('---' * 45)\n",
        "\n",
        "t1 = time.time()\n",
        "print(\"Fitting Catboost Classifier model with oversample data from SMOTE X_train, y_train took :{} sec\".format(t1 - t0))"
      ],
      "execution_count": 0,
      "outputs": [
        {
          "output_type": "stream",
          "text": [
            "0:\tlearn: 0.1387806\ttotal: 25ms\tremaining: 2.05s\n",
            "1:\tlearn: 0.0900893\ttotal: 47ms\tremaining: 1.9s\n",
            "2:\tlearn: 0.0633832\ttotal: 69.2ms\tremaining: 1.84s\n",
            "3:\tlearn: 0.0476709\ttotal: 92.7ms\tremaining: 1.83s\n",
            "4:\tlearn: 0.0383248\ttotal: 116ms\tremaining: 1.8s\n",
            "5:\tlearn: 0.0321555\ttotal: 138ms\tremaining: 1.78s\n",
            "6:\tlearn: 0.0246993\ttotal: 162ms\tremaining: 1.76s\n",
            "7:\tlearn: 0.0187781\ttotal: 186ms\tremaining: 1.74s\n",
            "8:\tlearn: 0.0152534\ttotal: 209ms\tremaining: 1.72s\n",
            "9:\tlearn: 0.0137991\ttotal: 237ms\tremaining: 1.73s\n",
            "10:\tlearn: 0.0124773\ttotal: 259ms\tremaining: 1.69s\n",
            "11:\tlearn: 0.0100769\ttotal: 282ms\tremaining: 1.67s\n",
            "12:\tlearn: 0.0087151\ttotal: 305ms\tremaining: 1.64s\n",
            "13:\tlearn: 0.0077854\ttotal: 328ms\tremaining: 1.62s\n",
            "14:\tlearn: 0.0070612\ttotal: 350ms\tremaining: 1.59s\n",
            "15:\tlearn: 0.0065534\ttotal: 373ms\tremaining: 1.56s\n",
            "16:\tlearn: 0.0061391\ttotal: 395ms\tremaining: 1.53s\n",
            "17:\tlearn: 0.0054718\ttotal: 418ms\tremaining: 1.51s\n",
            "18:\tlearn: 0.0050207\ttotal: 445ms\tremaining: 1.5s\n",
            "19:\tlearn: 0.0047738\ttotal: 476ms\tremaining: 1.5s\n",
            "20:\tlearn: 0.0043937\ttotal: 510ms\tremaining: 1.5s\n",
            "21:\tlearn: 0.0040569\ttotal: 532ms\tremaining: 1.47s\n",
            "22:\tlearn: 0.0036681\ttotal: 553ms\tremaining: 1.44s\n",
            "23:\tlearn: 0.0035191\ttotal: 575ms\tremaining: 1.41s\n",
            "24:\tlearn: 0.0034038\ttotal: 599ms\tremaining: 1.39s\n",
            "25:\tlearn: 0.0032902\ttotal: 619ms\tremaining: 1.36s\n",
            "26:\tlearn: 0.0030273\ttotal: 645ms\tremaining: 1.34s\n",
            "27:\tlearn: 0.0028940\ttotal: 665ms\tremaining: 1.3s\n",
            "28:\tlearn: 0.0024100\ttotal: 688ms\tremaining: 1.28s\n",
            "29:\tlearn: 0.0023007\ttotal: 709ms\tremaining: 1.25s\n",
            "30:\tlearn: 0.0021238\ttotal: 731ms\tremaining: 1.23s\n",
            "31:\tlearn: 0.0020183\ttotal: 753ms\tremaining: 1.2s\n",
            "32:\tlearn: 0.0019157\ttotal: 775ms\tremaining: 1.17s\n",
            "33:\tlearn: 0.0018412\ttotal: 795ms\tremaining: 1.15s\n",
            "34:\tlearn: 0.0017646\ttotal: 816ms\tremaining: 1.12s\n",
            "35:\tlearn: 0.0016609\ttotal: 837ms\tremaining: 1.09s\n",
            "36:\tlearn: 0.0016290\ttotal: 861ms\tremaining: 1.07s\n",
            "37:\tlearn: 0.0015160\ttotal: 884ms\tremaining: 1.05s\n",
            "38:\tlearn: 0.0014827\ttotal: 905ms\tremaining: 1.02s\n",
            "39:\tlearn: 0.0014642\ttotal: 925ms\tremaining: 994ms\n",
            "40:\tlearn: 0.0014355\ttotal: 945ms\tremaining: 968ms\n",
            "41:\tlearn: 0.0013968\ttotal: 967ms\tremaining: 944ms\n",
            "42:\tlearn: 0.0013541\ttotal: 988ms\tremaining: 919ms\n",
            "43:\tlearn: 0.0013146\ttotal: 1.01s\tremaining: 894ms\n",
            "44:\tlearn: 0.0012447\ttotal: 1.03s\tremaining: 870ms\n",
            "45:\tlearn: 0.0011705\ttotal: 1.05s\tremaining: 847ms\n",
            "46:\tlearn: 0.0011425\ttotal: 1.08s\tremaining: 827ms\n",
            "47:\tlearn: 0.0010607\ttotal: 1.1s\tremaining: 804ms\n",
            "48:\tlearn: 0.0010415\ttotal: 1.12s\tremaining: 780ms\n",
            "49:\tlearn: 0.0009958\ttotal: 1.15s\tremaining: 756ms\n",
            "50:\tlearn: 0.0009620\ttotal: 1.17s\tremaining: 732ms\n",
            "51:\tlearn: 0.0009239\ttotal: 1.19s\tremaining: 709ms\n",
            "52:\tlearn: 0.0009008\ttotal: 1.21s\tremaining: 686ms\n",
            "53:\tlearn: 0.0008842\ttotal: 1.23s\tremaining: 663ms\n",
            "54:\tlearn: 0.0008618\ttotal: 1.26s\tremaining: 640ms\n",
            "55:\tlearn: 0.0008478\ttotal: 1.29s\tremaining: 620ms\n",
            "56:\tlearn: 0.0008197\ttotal: 1.31s\tremaining: 597ms\n",
            "57:\tlearn: 0.0007935\ttotal: 1.33s\tremaining: 573ms\n",
            "58:\tlearn: 0.0007612\ttotal: 1.35s\tremaining: 550ms\n",
            "59:\tlearn: 0.0007197\ttotal: 1.38s\tremaining: 527ms\n",
            "60:\tlearn: 0.0006908\ttotal: 1.4s\tremaining: 504ms\n",
            "61:\tlearn: 0.0006819\ttotal: 1.42s\tremaining: 481ms\n",
            "62:\tlearn: 0.0006712\ttotal: 1.44s\tremaining: 457ms\n",
            "63:\tlearn: 0.0006282\ttotal: 1.46s\tremaining: 434ms\n",
            "64:\tlearn: 0.0005991\ttotal: 1.51s\tremaining: 419ms\n",
            "65:\tlearn: 0.0005770\ttotal: 1.53s\tremaining: 395ms\n",
            "66:\tlearn: 0.0005583\ttotal: 1.55s\tremaining: 372ms\n",
            "67:\tlearn: 0.0005423\ttotal: 1.58s\tremaining: 348ms\n",
            "68:\tlearn: 0.0005288\ttotal: 1.6s\tremaining: 325ms\n",
            "69:\tlearn: 0.0005028\ttotal: 1.63s\tremaining: 302ms\n",
            "70:\tlearn: 0.0004953\ttotal: 1.65s\tremaining: 278ms\n",
            "71:\tlearn: 0.0004698\ttotal: 1.67s\tremaining: 256ms\n",
            "72:\tlearn: 0.0004489\ttotal: 1.7s\tremaining: 232ms\n",
            "73:\tlearn: 0.0004335\ttotal: 1.72s\tremaining: 209ms\n",
            "74:\tlearn: 0.0004145\ttotal: 1.75s\tremaining: 186ms\n",
            "75:\tlearn: 0.0003905\ttotal: 1.77s\tremaining: 163ms\n",
            "76:\tlearn: 0.0003728\ttotal: 1.79s\tremaining: 140ms\n",
            "77:\tlearn: 0.0003648\ttotal: 1.81s\tremaining: 116ms\n",
            "78:\tlearn: 0.0003413\ttotal: 1.83s\tremaining: 93ms\n",
            "79:\tlearn: 0.0003297\ttotal: 1.86s\tremaining: 69.7ms\n",
            "80:\tlearn: 0.0003283\ttotal: 1.88s\tremaining: 46.4ms\n",
            "81:\tlearn: 0.0003072\ttotal: 1.9s\tremaining: 23.2ms\n",
            "82:\tlearn: 0.0003044\ttotal: 1.93s\tremaining: 0us\n",
            "0:\tlearn: 0.0974230\ttotal: 29ms\tremaining: 1.48s\n",
            "1:\tlearn: 0.0495493\ttotal: 56.9ms\tremaining: 1.42s\n",
            "2:\tlearn: 0.0324574\ttotal: 85.2ms\tremaining: 1.39s\n",
            "3:\tlearn: 0.0215356\ttotal: 112ms\tremaining: 1.35s\n",
            "4:\tlearn: 0.0140059\ttotal: 141ms\tremaining: 1.32s\n",
            "5:\tlearn: 0.0100138\ttotal: 168ms\tremaining: 1.29s\n",
            "6:\tlearn: 0.0083707\ttotal: 195ms\tremaining: 1.25s\n",
            "7:\tlearn: 0.0065687\ttotal: 223ms\tremaining: 1.22s\n",
            "8:\tlearn: 0.0057015\ttotal: 256ms\tremaining: 1.22s\n",
            "9:\tlearn: 0.0051893\ttotal: 289ms\tremaining: 1.21s\n",
            "10:\tlearn: 0.0049163\ttotal: 329ms\tremaining: 1.23s\n",
            "11:\tlearn: 0.0041873\ttotal: 355ms\tremaining: 1.18s\n",
            "12:\tlearn: 0.0034414\ttotal: 383ms\tremaining: 1.15s\n",
            "13:\tlearn: 0.0031362\ttotal: 408ms\tremaining: 1.11s\n",
            "14:\tlearn: 0.0028177\ttotal: 435ms\tremaining: 1.07s\n",
            "15:\tlearn: 0.0020607\ttotal: 468ms\tremaining: 1.05s\n",
            "16:\tlearn: 0.0017320\ttotal: 495ms\tremaining: 1.02s\n",
            "17:\tlearn: 0.0015854\ttotal: 521ms\tremaining: 984ms\n",
            "18:\tlearn: 0.0013561\ttotal: 549ms\tremaining: 954ms\n",
            "19:\tlearn: 0.0012116\ttotal: 575ms\tremaining: 921ms\n",
            "20:\tlearn: 0.0010262\ttotal: 604ms\tremaining: 892ms\n",
            "21:\tlearn: 0.0009132\ttotal: 631ms\tremaining: 861ms\n",
            "22:\tlearn: 0.0007127\ttotal: 660ms\tremaining: 832ms\n",
            "23:\tlearn: 0.0006219\ttotal: 695ms\tremaining: 810ms\n",
            "24:\tlearn: 0.0005413\ttotal: 721ms\tremaining: 779ms\n",
            "25:\tlearn: 0.0005198\ttotal: 747ms\tremaining: 747ms\n",
            "26:\tlearn: 0.0004942\ttotal: 774ms\tremaining: 716ms\n",
            "27:\tlearn: 0.0004403\ttotal: 800ms\tremaining: 686ms\n",
            "28:\tlearn: 0.0004274\ttotal: 831ms\tremaining: 659ms\n",
            "29:\tlearn: 0.0004095\ttotal: 865ms\tremaining: 634ms\n",
            "30:\tlearn: 0.0003586\ttotal: 913ms\tremaining: 619ms\n",
            "31:\tlearn: 0.0003353\ttotal: 949ms\tremaining: 593ms\n",
            "32:\tlearn: 0.0003101\ttotal: 975ms\tremaining: 561ms\n",
            "33:\tlearn: 0.0002962\ttotal: 1s\tremaining: 530ms\n",
            "34:\tlearn: 0.0002768\ttotal: 1.03s\tremaining: 499ms\n",
            "35:\tlearn: 0.0002733\ttotal: 1.08s\tremaining: 479ms\n",
            "36:\tlearn: 0.0002641\ttotal: 1.12s\tremaining: 454ms\n",
            "37:\tlearn: 0.0002567\ttotal: 1.15s\tremaining: 422ms\n",
            "38:\tlearn: 0.0002490\ttotal: 1.17s\tremaining: 390ms\n",
            "39:\tlearn: 0.0002335\ttotal: 1.2s\tremaining: 359ms\n",
            "40:\tlearn: 0.0002280\ttotal: 1.22s\tremaining: 328ms\n",
            "41:\tlearn: 0.0002198\ttotal: 1.25s\tremaining: 297ms\n",
            "42:\tlearn: 0.0002105\ttotal: 1.28s\tremaining: 268ms\n",
            "43:\tlearn: 0.0001965\ttotal: 1.31s\tremaining: 238ms\n",
            "44:\tlearn: 0.0001879\ttotal: 1.34s\tremaining: 208ms\n",
            "45:\tlearn: 0.0001636\ttotal: 1.36s\tremaining: 178ms\n",
            "46:\tlearn: 0.0001554\ttotal: 1.39s\tremaining: 148ms\n",
            "47:\tlearn: 0.0001470\ttotal: 1.42s\tremaining: 118ms\n",
            "48:\tlearn: 0.0001353\ttotal: 1.44s\tremaining: 88.4ms\n",
            "49:\tlearn: 0.0001296\ttotal: 1.47s\tremaining: 58.9ms\n",
            "50:\tlearn: 0.0001242\ttotal: 1.5s\tremaining: 29.4ms\n",
            "51:\tlearn: 0.0001173\ttotal: 1.52s\tremaining: 0us\n",
            "0:\tlearn: 0.0806668\ttotal: 28.7ms\tremaining: 2.75s\n",
            "1:\tlearn: 0.0536344\ttotal: 56.5ms\tremaining: 2.68s\n",
            "2:\tlearn: 0.0306023\ttotal: 85.9ms\tremaining: 2.69s\n",
            "3:\tlearn: 0.0192336\ttotal: 115ms\tremaining: 2.67s\n",
            "4:\tlearn: 0.0135569\ttotal: 143ms\tremaining: 2.63s\n",
            "5:\tlearn: 0.0104591\ttotal: 171ms\tremaining: 2.59s\n",
            "6:\tlearn: 0.0072301\ttotal: 199ms\tremaining: 2.56s\n",
            "7:\tlearn: 0.0052612\ttotal: 234ms\tremaining: 2.6s\n",
            "8:\tlearn: 0.0046506\ttotal: 260ms\tremaining: 2.55s\n",
            "9:\tlearn: 0.0039948\ttotal: 287ms\tremaining: 2.49s\n",
            "10:\tlearn: 0.0035741\ttotal: 314ms\tremaining: 2.45s\n",
            "11:\tlearn: 0.0033099\ttotal: 340ms\tremaining: 2.41s\n",
            "12:\tlearn: 0.0029224\ttotal: 367ms\tremaining: 2.37s\n",
            "13:\tlearn: 0.0027081\ttotal: 393ms\tremaining: 2.33s\n",
            "14:\tlearn: 0.0022242\ttotal: 420ms\tremaining: 2.3s\n",
            "15:\tlearn: 0.0019186\ttotal: 452ms\tremaining: 2.29s\n",
            "16:\tlearn: 0.0017586\ttotal: 479ms\tremaining: 2.25s\n",
            "17:\tlearn: 0.0015660\ttotal: 505ms\tremaining: 2.22s\n",
            "18:\tlearn: 0.0013859\ttotal: 532ms\tremaining: 2.18s\n",
            "19:\tlearn: 0.0013443\ttotal: 554ms\tremaining: 2.13s\n",
            "20:\tlearn: 0.0012645\ttotal: 581ms\tremaining: 2.1s\n",
            "21:\tlearn: 0.0010370\ttotal: 610ms\tremaining: 2.08s\n",
            "22:\tlearn: 0.0008978\ttotal: 637ms\tremaining: 2.05s\n",
            "23:\tlearn: 0.0008379\ttotal: 668ms\tremaining: 2.03s\n",
            "24:\tlearn: 0.0007748\ttotal: 696ms\tremaining: 2s\n",
            "25:\tlearn: 0.0007131\ttotal: 742ms\tremaining: 2.03s\n",
            "26:\tlearn: 0.0006142\ttotal: 769ms\tremaining: 1.99s\n",
            "27:\tlearn: 0.0005779\ttotal: 797ms\tremaining: 1.96s\n",
            "28:\tlearn: 0.0005268\ttotal: 824ms\tremaining: 1.93s\n",
            "29:\tlearn: 0.0004842\ttotal: 852ms\tremaining: 1.9s\n",
            "30:\tlearn: 0.0004552\ttotal: 884ms\tremaining: 1.88s\n",
            "31:\tlearn: 0.0004349\ttotal: 910ms\tremaining: 1.85s\n",
            "32:\tlearn: 0.0003690\ttotal: 938ms\tremaining: 1.82s\n",
            "33:\tlearn: 0.0003570\ttotal: 963ms\tremaining: 1.78s\n",
            "34:\tlearn: 0.0003181\ttotal: 1s\tremaining: 1.77s\n",
            "35:\tlearn: 0.0002968\ttotal: 1.03s\tremaining: 1.75s\n",
            "36:\tlearn: 0.0002728\ttotal: 1.06s\tremaining: 1.71s\n",
            "37:\tlearn: 0.0002592\ttotal: 1.09s\tremaining: 1.69s\n",
            "38:\tlearn: 0.0002385\ttotal: 1.11s\tremaining: 1.66s\n",
            "39:\tlearn: 0.0002181\ttotal: 1.14s\tremaining: 1.63s\n",
            "40:\tlearn: 0.0002096\ttotal: 1.17s\tremaining: 1.59s\n",
            "41:\tlearn: 0.0001986\ttotal: 1.19s\tremaining: 1.56s\n",
            "42:\tlearn: 0.0001840\ttotal: 1.22s\tremaining: 1.53s\n",
            "43:\tlearn: 0.0001768\ttotal: 1.25s\tremaining: 1.5s\n",
            "44:\tlearn: 0.0001709\ttotal: 1.27s\tremaining: 1.47s\n",
            "45:\tlearn: 0.0001605\ttotal: 1.3s\tremaining: 1.45s\n",
            "46:\tlearn: 0.0001551\ttotal: 1.33s\tremaining: 1.42s\n",
            "47:\tlearn: 0.0001499\ttotal: 1.36s\tremaining: 1.39s\n",
            "48:\tlearn: 0.0001378\ttotal: 1.39s\tremaining: 1.36s\n",
            "49:\tlearn: 0.0001351\ttotal: 1.41s\tremaining: 1.33s\n",
            "50:\tlearn: 0.0001251\ttotal: 1.44s\tremaining: 1.3s\n",
            "51:\tlearn: 0.0001190\ttotal: 1.47s\tremaining: 1.27s\n",
            "52:\tlearn: 0.0001135\ttotal: 1.49s\tremaining: 1.24s\n",
            "53:\tlearn: 0.0001109\ttotal: 1.52s\tremaining: 1.21s\n",
            "54:\tlearn: 0.0001071\ttotal: 1.55s\tremaining: 1.18s\n",
            "55:\tlearn: 0.0000978\ttotal: 1.58s\tremaining: 1.16s\n",
            "56:\tlearn: 0.0000927\ttotal: 1.61s\tremaining: 1.13s\n",
            "57:\tlearn: 0.0000893\ttotal: 1.63s\tremaining: 1.1s\n",
            "58:\tlearn: 0.0000853\ttotal: 1.66s\tremaining: 1.07s\n",
            "59:\tlearn: 0.0000778\ttotal: 1.69s\tremaining: 1.04s\n",
            "60:\tlearn: 0.0000763\ttotal: 1.72s\tremaining: 1.01s\n",
            "61:\tlearn: 0.0000744\ttotal: 1.75s\tremaining: 991ms\n",
            "62:\tlearn: 0.0000716\ttotal: 1.78s\tremaining: 962ms\n",
            "63:\tlearn: 0.0000700\ttotal: 1.81s\tremaining: 933ms\n",
            "64:\tlearn: 0.0000683\ttotal: 1.83s\tremaining: 904ms\n",
            "65:\tlearn: 0.0000663\ttotal: 1.86s\tremaining: 875ms\n",
            "66:\tlearn: 0.0000640\ttotal: 1.89s\tremaining: 847ms\n",
            "67:\tlearn: 0.0000617\ttotal: 1.93s\tremaining: 822ms\n",
            "68:\tlearn: 0.0000605\ttotal: 1.96s\tremaining: 793ms\n",
            "69:\tlearn: 0.0000571\ttotal: 1.98s\tremaining: 764ms\n",
            "70:\tlearn: 0.0000563\ttotal: 2.01s\tremaining: 735ms\n",
            "71:\tlearn: 0.0000537\ttotal: 2.03s\tremaining: 706ms\n",
            "72:\tlearn: 0.0000524\ttotal: 2.06s\tremaining: 677ms\n",
            "73:\tlearn: 0.0000512\ttotal: 2.08s\tremaining: 648ms\n",
            "74:\tlearn: 0.0000502\ttotal: 2.11s\tremaining: 620ms\n",
            "75:\tlearn: 0.0000490\ttotal: 2.14s\tremaining: 592ms\n",
            "76:\tlearn: 0.0000483\ttotal: 2.17s\tremaining: 564ms\n",
            "77:\tlearn: 0.0000475\ttotal: 2.2s\tremaining: 535ms\n",
            "78:\tlearn: 0.0000471\ttotal: 2.22s\tremaining: 507ms\n",
            "79:\tlearn: 0.0000452\ttotal: 2.25s\tremaining: 478ms\n",
            "80:\tlearn: 0.0000445\ttotal: 2.28s\tremaining: 450ms\n",
            "81:\tlearn: 0.0000431\ttotal: 2.3s\tremaining: 421ms\n",
            "82:\tlearn: 0.0000418\ttotal: 2.33s\tremaining: 393ms\n",
            "83:\tlearn: 0.0000404\ttotal: 2.36s\tremaining: 366ms\n",
            "84:\tlearn: 0.0000384\ttotal: 2.4s\tremaining: 339ms\n",
            "85:\tlearn: 0.0000381\ttotal: 2.43s\tremaining: 311ms\n",
            "86:\tlearn: 0.0000374\ttotal: 2.46s\tremaining: 282ms\n",
            "87:\tlearn: 0.0000370\ttotal: 2.48s\tremaining: 254ms\n",
            "88:\tlearn: 0.0000360\ttotal: 2.51s\tremaining: 226ms\n",
            "89:\tlearn: 0.0000349\ttotal: 2.54s\tremaining: 197ms\n",
            "90:\tlearn: 0.0000340\ttotal: 2.57s\tremaining: 169ms\n",
            "91:\tlearn: 0.0000332\ttotal: 2.59s\tremaining: 141ms\n",
            "92:\tlearn: 0.0000321\ttotal: 2.62s\tremaining: 113ms\n",
            "93:\tlearn: 0.0000312\ttotal: 2.65s\tremaining: 84.5ms\n",
            "94:\tlearn: 0.0000307\ttotal: 2.68s\tremaining: 56.4ms\n",
            "95:\tlearn: 0.0000302\ttotal: 2.71s\tremaining: 28.2ms\n",
            "96:\tlearn: 0.0000296\ttotal: 2.73s\tremaining: 0us\n",
            "0:\tlearn: 0.1528300\ttotal: 24.8ms\tremaining: 1.76s\n",
            "1:\tlearn: 0.0937995\ttotal: 49.2ms\tremaining: 1.72s\n",
            "2:\tlearn: 0.0723185\ttotal: 73.8ms\tremaining: 1.7s\n",
            "3:\tlearn: 0.0538838\ttotal: 98.9ms\tremaining: 1.68s\n",
            "4:\tlearn: 0.0421256\ttotal: 124ms\tremaining: 1.66s\n",
            "5:\tlearn: 0.0320079\ttotal: 148ms\tremaining: 1.63s\n",
            "6:\tlearn: 0.0273177\ttotal: 172ms\tremaining: 1.59s\n",
            "7:\tlearn: 0.0230502\ttotal: 200ms\tremaining: 1.6s\n",
            "8:\tlearn: 0.0198945\ttotal: 228ms\tremaining: 1.59s\n",
            "9:\tlearn: 0.0170309\ttotal: 250ms\tremaining: 1.55s\n",
            "10:\tlearn: 0.0142458\ttotal: 281ms\tremaining: 1.56s\n",
            "11:\tlearn: 0.0130473\ttotal: 313ms\tremaining: 1.56s\n",
            "12:\tlearn: 0.0109455\ttotal: 335ms\tremaining: 1.52s\n",
            "13:\tlearn: 0.0104140\ttotal: 356ms\tremaining: 1.48s\n",
            "14:\tlearn: 0.0100878\ttotal: 377ms\tremaining: 1.43s\n",
            "15:\tlearn: 0.0089806\ttotal: 399ms\tremaining: 1.4s\n",
            "16:\tlearn: 0.0086148\ttotal: 421ms\tremaining: 1.36s\n",
            "17:\tlearn: 0.0075322\ttotal: 446ms\tremaining: 1.34s\n",
            "18:\tlearn: 0.0071943\ttotal: 469ms\tremaining: 1.31s\n",
            "19:\tlearn: 0.0066774\ttotal: 489ms\tremaining: 1.27s\n",
            "20:\tlearn: 0.0058571\ttotal: 512ms\tremaining: 1.24s\n",
            "21:\tlearn: 0.0053249\ttotal: 537ms\tremaining: 1.22s\n",
            "22:\tlearn: 0.0050744\ttotal: 556ms\tremaining: 1.18s\n",
            "23:\tlearn: 0.0048565\ttotal: 575ms\tremaining: 1.15s\n",
            "24:\tlearn: 0.0046690\ttotal: 597ms\tremaining: 1.12s\n",
            "25:\tlearn: 0.0044183\ttotal: 622ms\tremaining: 1.1s\n",
            "26:\tlearn: 0.0041664\ttotal: 645ms\tremaining: 1.07s\n",
            "27:\tlearn: 0.0040747\ttotal: 665ms\tremaining: 1.04s\n",
            "28:\tlearn: 0.0036424\ttotal: 690ms\tremaining: 1.02s\n",
            "29:\tlearn: 0.0033683\ttotal: 710ms\tremaining: 993ms\n",
            "30:\tlearn: 0.0030993\ttotal: 730ms\tremaining: 965ms\n",
            "31:\tlearn: 0.0029250\ttotal: 749ms\tremaining: 936ms\n",
            "32:\tlearn: 0.0027928\ttotal: 769ms\tremaining: 909ms\n",
            "33:\tlearn: 0.0026013\ttotal: 789ms\tremaining: 882ms\n",
            "34:\tlearn: 0.0025456\ttotal: 808ms\tremaining: 855ms\n",
            "35:\tlearn: 0.0024531\ttotal: 827ms\tremaining: 827ms\n",
            "36:\tlearn: 0.0023382\ttotal: 853ms\tremaining: 807ms\n",
            "37:\tlearn: 0.0022059\ttotal: 873ms\tremaining: 781ms\n",
            "38:\tlearn: 0.0019843\ttotal: 893ms\tremaining: 756ms\n",
            "39:\tlearn: 0.0019058\ttotal: 912ms\tremaining: 730ms\n",
            "40:\tlearn: 0.0018297\ttotal: 931ms\tremaining: 704ms\n",
            "41:\tlearn: 0.0016889\ttotal: 951ms\tremaining: 679ms\n",
            "42:\tlearn: 0.0016473\ttotal: 969ms\tremaining: 654ms\n",
            "43:\tlearn: 0.0015548\ttotal: 989ms\tremaining: 629ms\n",
            "44:\tlearn: 0.0014968\ttotal: 1.01s\tremaining: 607ms\n",
            "45:\tlearn: 0.0014358\ttotal: 1.03s\tremaining: 582ms\n",
            "46:\tlearn: 0.0013882\ttotal: 1.05s\tremaining: 560ms\n",
            "47:\tlearn: 0.0013032\ttotal: 1.07s\tremaining: 535ms\n",
            "48:\tlearn: 0.0012126\ttotal: 1.09s\tremaining: 511ms\n",
            "49:\tlearn: 0.0011835\ttotal: 1.11s\tremaining: 487ms\n",
            "50:\tlearn: 0.0011184\ttotal: 1.13s\tremaining: 463ms\n",
            "51:\tlearn: 0.0010874\ttotal: 1.14s\tremaining: 440ms\n",
            "52:\tlearn: 0.0010419\ttotal: 1.16s\tremaining: 416ms\n",
            "53:\tlearn: 0.0010121\ttotal: 1.18s\tremaining: 394ms\n",
            "54:\tlearn: 0.0009714\ttotal: 1.2s\tremaining: 372ms\n",
            "55:\tlearn: 0.0009378\ttotal: 1.22s\tremaining: 349ms\n",
            "56:\tlearn: 0.0009255\ttotal: 1.24s\tremaining: 326ms\n",
            "57:\tlearn: 0.0008770\ttotal: 1.26s\tremaining: 304ms\n",
            "58:\tlearn: 0.0008391\ttotal: 1.29s\tremaining: 284ms\n",
            "59:\tlearn: 0.0007785\ttotal: 1.32s\tremaining: 264ms\n",
            "60:\tlearn: 0.0007527\ttotal: 1.34s\tremaining: 241ms\n",
            "61:\tlearn: 0.0007207\ttotal: 1.36s\tremaining: 219ms\n",
            "62:\tlearn: 0.0007126\ttotal: 1.38s\tremaining: 196ms\n",
            "63:\tlearn: 0.0007056\ttotal: 1.39s\tremaining: 174ms\n",
            "64:\tlearn: 0.0006921\ttotal: 1.41s\tremaining: 152ms\n",
            "65:\tlearn: 0.0006615\ttotal: 1.43s\tremaining: 130ms\n",
            "66:\tlearn: 0.0006258\ttotal: 1.45s\tremaining: 108ms\n",
            "67:\tlearn: 0.0006091\ttotal: 1.47s\tremaining: 86.7ms\n",
            "68:\tlearn: 0.0005905\ttotal: 1.5s\tremaining: 65.1ms\n",
            "69:\tlearn: 0.0005403\ttotal: 1.51s\tremaining: 43.3ms\n",
            "70:\tlearn: 0.0005289\ttotal: 1.53s\tremaining: 21.6ms\n",
            "71:\tlearn: 0.0005217\ttotal: 1.55s\tremaining: 0us\n",
            "0:\tlearn: 0.3497021\ttotal: 37.2ms\tremaining: 3.39s\n",
            "1:\tlearn: 0.2030442\ttotal: 72.7ms\tremaining: 3.27s\n",
            "2:\tlearn: 0.1431388\ttotal: 109ms\tremaining: 3.23s\n",
            "3:\tlearn: 0.1128524\ttotal: 145ms\tremaining: 3.18s\n",
            "4:\tlearn: 0.0900298\ttotal: 180ms\tremaining: 3.14s\n",
            "5:\tlearn: 0.0715822\ttotal: 215ms\tremaining: 3.07s\n",
            "6:\tlearn: 0.0571158\ttotal: 254ms\tremaining: 3.08s\n",
            "7:\tlearn: 0.0500111\ttotal: 286ms\tremaining: 3s\n",
            "8:\tlearn: 0.0433579\ttotal: 331ms\tremaining: 3.05s\n",
            "9:\tlearn: 0.0390370\ttotal: 370ms\tremaining: 3.04s\n",
            "10:\tlearn: 0.0336622\ttotal: 403ms\tremaining: 2.97s\n",
            "11:\tlearn: 0.0302394\ttotal: 434ms\tremaining: 2.9s\n",
            "12:\tlearn: 0.0274240\ttotal: 469ms\tremaining: 2.85s\n",
            "13:\tlearn: 0.0238953\ttotal: 509ms\tremaining: 2.83s\n",
            "14:\tlearn: 0.0207913\ttotal: 540ms\tremaining: 2.77s\n",
            "15:\tlearn: 0.0186152\ttotal: 571ms\tremaining: 2.71s\n",
            "16:\tlearn: 0.0171344\ttotal: 599ms\tremaining: 2.64s\n",
            "17:\tlearn: 0.0157454\ttotal: 627ms\tremaining: 2.58s\n",
            "18:\tlearn: 0.0144245\ttotal: 664ms\tremaining: 2.55s\n",
            "19:\tlearn: 0.0135567\ttotal: 697ms\tremaining: 2.51s\n",
            "20:\tlearn: 0.0124702\ttotal: 730ms\tremaining: 2.47s\n",
            "21:\tlearn: 0.0118075\ttotal: 755ms\tremaining: 2.4s\n",
            "22:\tlearn: 0.0111553\ttotal: 786ms\tremaining: 2.36s\n",
            "23:\tlearn: 0.0105645\ttotal: 817ms\tremaining: 2.31s\n",
            "24:\tlearn: 0.0096361\ttotal: 846ms\tremaining: 2.27s\n",
            "25:\tlearn: 0.0092394\ttotal: 871ms\tremaining: 2.21s\n",
            "26:\tlearn: 0.0084337\ttotal: 906ms\tremaining: 2.18s\n",
            "27:\tlearn: 0.0080628\ttotal: 932ms\tremaining: 2.13s\n",
            "28:\tlearn: 0.0076253\ttotal: 961ms\tremaining: 2.09s\n",
            "29:\tlearn: 0.0071576\ttotal: 989ms\tremaining: 2.04s\n",
            "30:\tlearn: 0.0068339\ttotal: 1.02s\tremaining: 2s\n",
            "31:\tlearn: 0.0064626\ttotal: 1.04s\tremaining: 1.96s\n",
            "32:\tlearn: 0.0059814\ttotal: 1.08s\tremaining: 1.93s\n",
            "33:\tlearn: 0.0056566\ttotal: 1.11s\tremaining: 1.89s\n",
            "34:\tlearn: 0.0055132\ttotal: 1.14s\tremaining: 1.85s\n",
            "35:\tlearn: 0.0053593\ttotal: 1.16s\tremaining: 1.81s\n",
            "36:\tlearn: 0.0050182\ttotal: 1.19s\tremaining: 1.77s\n",
            "37:\tlearn: 0.0048565\ttotal: 1.22s\tremaining: 1.73s\n",
            "38:\tlearn: 0.0047561\ttotal: 1.25s\tremaining: 1.69s\n",
            "39:\tlearn: 0.0047088\ttotal: 1.27s\tremaining: 1.65s\n",
            "40:\tlearn: 0.0045065\ttotal: 1.3s\tremaining: 1.61s\n",
            "41:\tlearn: 0.0043335\ttotal: 1.33s\tremaining: 1.59s\n",
            "42:\tlearn: 0.0042651\ttotal: 1.38s\tremaining: 1.57s\n",
            "43:\tlearn: 0.0041649\ttotal: 1.41s\tremaining: 1.53s\n",
            "44:\tlearn: 0.0039305\ttotal: 1.43s\tremaining: 1.5s\n",
            "45:\tlearn: 0.0038651\ttotal: 1.46s\tremaining: 1.46s\n",
            "46:\tlearn: 0.0036405\ttotal: 1.49s\tremaining: 1.43s\n",
            "47:\tlearn: 0.0035946\ttotal: 1.51s\tremaining: 1.39s\n",
            "48:\tlearn: 0.0035163\ttotal: 1.54s\tremaining: 1.35s\n",
            "49:\tlearn: 0.0033810\ttotal: 1.57s\tremaining: 1.32s\n",
            "50:\tlearn: 0.0033373\ttotal: 1.61s\tremaining: 1.29s\n",
            "51:\tlearn: 0.0031571\ttotal: 1.64s\tremaining: 1.26s\n",
            "52:\tlearn: 0.0030803\ttotal: 1.66s\tremaining: 1.22s\n",
            "53:\tlearn: 0.0030168\ttotal: 1.69s\tremaining: 1.19s\n",
            "54:\tlearn: 0.0029453\ttotal: 1.72s\tremaining: 1.15s\n",
            "55:\tlearn: 0.0028836\ttotal: 1.75s\tremaining: 1.12s\n",
            "56:\tlearn: 0.0028117\ttotal: 1.77s\tremaining: 1.09s\n",
            "57:\tlearn: 0.0027693\ttotal: 1.8s\tremaining: 1.06s\n",
            "58:\tlearn: 0.0026862\ttotal: 1.83s\tremaining: 1.02s\n",
            "59:\tlearn: 0.0026141\ttotal: 1.85s\tremaining: 990ms\n",
            "60:\tlearn: 0.0025220\ttotal: 1.88s\tremaining: 957ms\n",
            "61:\tlearn: 0.0024952\ttotal: 1.91s\tremaining: 923ms\n",
            "62:\tlearn: 0.0024032\ttotal: 1.93s\tremaining: 891ms\n",
            "63:\tlearn: 0.0022639\ttotal: 1.97s\tremaining: 861ms\n",
            "64:\tlearn: 0.0022569\ttotal: 1.98s\tremaining: 824ms\n",
            "65:\tlearn: 0.0021986\ttotal: 2.01s\tremaining: 791ms\n",
            "66:\tlearn: 0.0021878\ttotal: 2.03s\tremaining: 759ms\n",
            "67:\tlearn: 0.0021497\ttotal: 2.06s\tremaining: 727ms\n",
            "68:\tlearn: 0.0020820\ttotal: 2.09s\tremaining: 695ms\n",
            "69:\tlearn: 0.0020361\ttotal: 2.11s\tremaining: 664ms\n",
            "70:\tlearn: 0.0020135\ttotal: 2.14s\tremaining: 632ms\n",
            "71:\tlearn: 0.0019815\ttotal: 2.16s\tremaining: 601ms\n",
            "72:\tlearn: 0.0019582\ttotal: 2.19s\tremaining: 570ms\n",
            "73:\tlearn: 0.0019268\ttotal: 2.21s\tremaining: 539ms\n",
            "74:\tlearn: 0.0018966\ttotal: 2.24s\tremaining: 508ms\n",
            "75:\tlearn: 0.0018510\ttotal: 2.27s\tremaining: 478ms\n",
            "76:\tlearn: 0.0017297\ttotal: 2.3s\tremaining: 448ms\n",
            "77:\tlearn: 0.0016431\ttotal: 2.33s\tremaining: 417ms\n",
            "78:\tlearn: 0.0015915\ttotal: 2.37s\tremaining: 390ms\n",
            "79:\tlearn: 0.0015469\ttotal: 2.4s\tremaining: 361ms\n",
            "80:\tlearn: 0.0015252\ttotal: 2.43s\tremaining: 330ms\n",
            "81:\tlearn: 0.0015039\ttotal: 2.46s\tremaining: 300ms\n",
            "82:\tlearn: 0.0014606\ttotal: 2.49s\tremaining: 270ms\n",
            "83:\tlearn: 0.0014244\ttotal: 2.51s\tremaining: 239ms\n",
            "84:\tlearn: 0.0013936\ttotal: 2.54s\tremaining: 209ms\n",
            "85:\tlearn: 0.0013709\ttotal: 2.56s\tremaining: 179ms\n",
            "86:\tlearn: 0.0013379\ttotal: 2.6s\tremaining: 149ms\n",
            "87:\tlearn: 0.0013264\ttotal: 2.62s\tremaining: 119ms\n",
            "88:\tlearn: 0.0013051\ttotal: 2.65s\tremaining: 89.3ms\n",
            "89:\tlearn: 0.0012995\ttotal: 2.67s\tremaining: 59.4ms\n",
            "90:\tlearn: 0.0012702\ttotal: 2.7s\tremaining: 29.7ms\n",
            "91:\tlearn: 0.0012526\ttotal: 2.73s\tremaining: 0us\n",
            "---------------------------------------------\n",
            "\n",
            "accuracy: 0.9893833056691808\n",
            "precision: 0.341090736312044\n",
            "recall: 0.8371308016877638\n",
            "f1: 0.392978550050779\n",
            "---------------------------------------------------------------------------------------------------------------------------------------\n",
            "Fitting Catboost Classifier model with oversample data from SMOTE X_train, y_train took :992.5420315265656 sec\n"
          ],
          "name": "stdout"
        }
      ]
    },
    {
      "cell_type": "code",
      "metadata": {
        "id": "MpowMPH1ke8U",
        "colab_type": "code",
        "outputId": "56d10686-f81a-4ef0-9992-31ea92b1f0b9",
        "colab": {
          "base_uri": "https://localhost:8080/",
          "height": 204
        }
      },
      "source": [
        "catboost_pred  = catboost_best_est.predict(original_Xtest, prediction_type='Class')\n",
        "\n",
        "print('CatBoostClassifer AUC score: ', roc_auc_score(original_ytest, catboost_pred))\n",
        "\n",
        "\n",
        "print('CatboostClassifer Classification Report:')\n",
        "\n",
        "\n",
        "print(classification_report(original_ytest, catboost_pred))"
      ],
      "execution_count": 79,
      "outputs": [
        {
          "output_type": "stream",
          "text": [
            "CatBoostClassifer AUC score:  0.8315711016130068\n",
            "CatboostClassifer Classification Report:\n",
            "              precision    recall  f1-score   support\n",
            "\n",
            "           0       1.00      1.00      1.00     56863\n",
            "           1       0.90      0.66      0.76        98\n",
            "\n",
            "    accuracy                           1.00     56961\n",
            "   macro avg       0.95      0.83      0.88     56961\n",
            "weighted avg       1.00      1.00      1.00     56961\n",
            "\n"
          ],
          "name": "stdout"
        }
      ]
    },
    {
      "cell_type": "code",
      "metadata": {
        "id": "XBZ1vFjquWMJ",
        "colab_type": "code",
        "colab": {}
      },
      "source": [
        "import itertools\n",
        "from sklearn.metrics import confusion_matrix\n",
        "\n",
        "# Create a confusion matrix\n",
        "def plot_confusion_matrix(cm, classes,\n",
        "                          normalize=False,\n",
        "                          title='Confusion matrix',\n",
        "                          cmap=plt.cm.Blues):\n",
        "    \"\"\"\n",
        "    This function prints and plots the confusion matrix.\n",
        "    Normalization can be applied by setting `normalize=True`.\n",
        "    \"\"\"\n",
        "    if normalize:\n",
        "        cm = cm.astype('float') / cm.sum(axis=1)[:, np.newaxis]\n",
        "        print(\"Normalized confusion matrix\")\n",
        "    else:\n",
        "        print('Confusion matrix, without normalization')\n",
        "\n",
        "    print(cm)\n",
        "\n",
        "    plt.imshow(cm, interpolation='nearest', cmap=cmap)\n",
        "    plt.title(title, fontsize=14)\n",
        "    plt.colorbar()\n",
        "    tick_marks = np.arange(len(classes))\n",
        "    plt.xticks(tick_marks, classes, rotation=45)\n",
        "    plt.yticks(tick_marks, classes)\n",
        "\n",
        "    fmt = '.2f' if normalize else 'd'\n",
        "    thresh = cm.max() / 2.\n",
        "    for i, j in itertools.product(range(cm.shape[0]), range(cm.shape[1])):\n",
        "        plt.text(j, i, format(cm[i, j], fmt),\n",
        "                 horizontalalignment=\"center\",\n",
        "                 color=\"white\" if cm[i, j] > thresh else \"black\")\n",
        "\n",
        "    plt.tight_layout()\n",
        "    plt.ylabel('True label')\n",
        "    plt.xlabel('Predicted label')"
      ],
      "execution_count": 0,
      "outputs": []
    },
    {
      "cell_type": "code",
      "metadata": {
        "id": "pIHX5DpulLt5",
        "colab_type": "code",
        "outputId": "78dbe68a-f2e8-41bc-de3d-a6f84aebd336",
        "colab": {
          "base_uri": "https://localhost:8080/",
          "height": 451
        }
      },
      "source": [
        "catboost_cm = confusion_matrix(original_ytest, catboost_pred)\n",
        "log_reg_cm = confusion_matrix(original_ytest, log_reg_pred)\n",
        "labels = ['No Fraud', 'Fraud']\n",
        "\n",
        "fig = plt.figure(figsize=(16,8))\n",
        "\n",
        "fig.add_subplot(221)\n",
        "plot_confusion_matrix(catboost_cm, labels, title=\"CatBoost \\n Confusion Matrix\", cmap=plt.cm.Oranges)\n",
        "\n",
        "fig.add_subplot(222)\n",
        "plot_confusion_matrix(log_reg_cm, labels, title=\"Log_Regression model \\n Confusion Matrix \", cmap=plt.cm.Greens)"
      ],
      "execution_count": 0,
      "outputs": [
        {
          "output_type": "stream",
          "text": [
            "Confusion matrix, without normalization\n",
            "[[56856     7]\n",
            " [   33    65]]\n",
            "Confusion matrix, without normalization\n",
            "[[55505  1358]\n",
            " [   13    85]]\n"
          ],
          "name": "stdout"
        },
        {
          "output_type": "display_data",
          "data": {
            "image/png": "[encoded data removed]",
            "text/plain": [
              "<Figure size 1152x576 with 4 Axes>"
            ]
          },
          "metadata": {
            "tags": []
          }
        }
      ]
    },
    {
      "cell_type": "code",
      "metadata": {
        "id": "16RyE20ildzT",
        "colab_type": "code",
        "outputId": "e7f960b1-8972-4d80-dac6-c4f834efd423",
        "colab": {
          "base_uri": "https://localhost:8080/",
          "height": 156
        }
      },
      "source": [
        "import keras\n",
        "from keras import backend as K\n",
        "from keras.models import Sequential\n",
        "from keras.layers import Activation\n",
        "from keras.layers.core import Dense\n",
        "from keras.optimizers import Adam\n",
        "from keras.metrics import categorical_crossentropy\n",
        "\n",
        "n_inputs = original_Xtrain.shape[1]\n",
        "\n",
        "nn_model = Sequential([\n",
        "    Dense(n_inputs, input_shape=(n_inputs, ), activation='relu'),\n",
        "    Dense(32, activation='relu'),\n",
        "    Dense(2, activation='softmax')\n",
        "])"
      ],
      "execution_count": 0,
      "outputs": [
        {
          "output_type": "stream",
          "text": [
            "WARNING: Logging before flag parsing goes to stderr.\n",
            "W0829 14:15:13.170742 140045315323776 deprecation_wrapper.py:119] From /usr/local/lib/python3.6/dist-packages/keras/backend/tensorflow_backend.py:74: The name tf.get_default_graph is deprecated. Please use tf.compat.v1.get_default_graph instead.\n",
            "\n",
            "W0829 14:15:13.197473 140045315323776 deprecation_wrapper.py:119] From /usr/local/lib/python3.6/dist-packages/keras/backend/tensorflow_backend.py:517: The name tf.placeholder is deprecated. Please use tf.compat.v1.placeholder instead.\n",
            "\n",
            "W0829 14:15:13.201961 140045315323776 deprecation_wrapper.py:119] From /usr/local/lib/python3.6/dist-packages/keras/backend/tensorflow_backend.py:4138: The name tf.random_uniform is deprecated. Please use tf.random.uniform instead.\n",
            "\n"
          ],
          "name": "stderr"
        }
      ]
    },
    {
      "cell_type": "code",
      "metadata": {
        "id": "grea7VkLwYpT",
        "colab_type": "code",
        "outputId": "2bc9e91b-2ff3-4966-b78e-e907ad2c5e6d",
        "colab": {
          "base_uri": "https://localhost:8080/",
          "height": 122
        }
      },
      "source": [
        "# SMOTE Technique (OverSampling) After splitting and Cross Validating\n",
        "sm = SMOTE(ratio='minority', random_state=42)\n",
        "# Xsm_train, ysm_train = sm.fit_sample(X_train, y_train)\n",
        "\n",
        "\n",
        "# This will be the data were we are going to train our models with: \n",
        "Xsm_train, ysm_train = sm.fit_sample(original_Xtrain, original_ytrain)\n",
        "\n",
        "\n",
        "print('Length of Orignal X (train): {} | Length of Orignal y (train): {}'.format(len(original_Xtrain), len(original_ytrain)))\n",
        "print('Length of Orignal X (test): {} | Length of Orignal y (test): {}'.format(len(original_Xtrain), len(original_ytrain)))\n",
        "\n",
        "print(\"---*\"*50)\n",
        "print('Length of SMOTE X (train): {} | Length of SMOTE y (train): {}'.format(len(Xsm_train), len(ysm_train)))\n",
        "print('Length of SMOTE X (test): {} | Length of SMOTE y (test): {}'.format(len(Xsm_train), len(ysm_train)))\n"
      ],
      "execution_count": 0,
      "outputs": [
        {
          "output_type": "stream",
          "text": [
            "Length of Orignal X (train): 227846 | Length of Orignal y (train): 227846\n",
            "Length of Orignal X (test): 227846 | Length of Orignal y (test): 227846\n",
            "---*---*---*---*---*---*---*---*---*---*---*---*---*---*---*---*---*---*---*---*---*---*---*---*---*---*---*---*---*---*---*---*---*---*---*---*---*---*---*---*---*---*---*---*---*---*---*---*---*---*\n",
            "Length of SMOTE X (train): 454904 | Length of SMOTE y (train): 454904\n",
            "Length of SMOTE X (test): 454904 | Length of SMOTE y (test): 454904\n"
          ],
          "name": "stdout"
        }
      ]
    },
    {
      "cell_type": "code",
      "metadata": {
        "id": "wGXMBgVOrdmV",
        "colab_type": "code",
        "outputId": "0443c69f-7c10-4a0f-9f69-944a10e3db52",
        "colab": {
          "base_uri": "https://localhost:8080/",
          "height": 731
        }
      },
      "source": [
        "t0 = time.time()\n",
        "\n",
        "nn_model.compile(Adam(lr=0.001), loss='sparse_categorical_crossentropy', metrics=['accuracy'])\n",
        "nn_model.fit(Xsm_train, ysm_train, validation_split=0.2, batch_size=25, epochs=20, shuffle=True, verbose=2)\n",
        "\n",
        "\n",
        "\n",
        "t1 = time.time()\n",
        "print(\"Fitting Neural Network model with oversample data from SMOTE X_train, y_train took :{} sec\".format(t1 - t0))"
      ],
      "execution_count": 0,
      "outputs": [
        {
          "output_type": "stream",
          "text": [
            "Train on 363923 samples, validate on 90981 samples\n",
            "Epoch 1/20\n",
            " - 57s - loss: 0.0049 - acc: 0.9991 - val_loss: 5.9889e-04 - val_acc: 1.0000\n",
            "Epoch 2/20\n",
            " - 56s - loss: 0.0035 - acc: 0.9992 - val_loss: 0.0025 - val_acc: 0.9996\n",
            "Epoch 3/20\n",
            " - 56s - loss: 0.0030 - acc: 0.9994 - val_loss: 0.0013 - val_acc: 1.0000\n",
            "Epoch 4/20\n",
            " - 55s - loss: 0.0026 - acc: 0.9995 - val_loss: 3.8840e-04 - val_acc: 1.0000\n",
            "Epoch 5/20\n",
            " - 56s - loss: 0.0022 - acc: 0.9995 - val_loss: 0.0022 - val_acc: 0.9997\n",
            "Epoch 6/20\n",
            " - 56s - loss: 0.0022 - acc: 0.9995 - val_loss: 4.1056e-04 - val_acc: 1.0000\n",
            "Epoch 7/20\n",
            " - 55s - loss: 0.0025 - acc: 0.9996 - val_loss: 4.9031e-04 - val_acc: 1.0000\n",
            "Epoch 8/20\n",
            " - 56s - loss: 0.0018 - acc: 0.9996 - val_loss: 1.3904e-04 - val_acc: 1.0000\n",
            "Epoch 9/20\n",
            " - 55s - loss: 0.0017 - acc: 0.9996 - val_loss: 0.0070 - val_acc: 0.9977\n",
            "Epoch 10/20\n",
            " - 55s - loss: 0.0017 - acc: 0.9996 - val_loss: 1.6929e-04 - val_acc: 1.0000\n",
            "Epoch 11/20\n",
            " - 55s - loss: 0.0017 - acc: 0.9997 - val_loss: 1.8350e-04 - val_acc: 1.0000\n",
            "Epoch 12/20\n",
            " - 56s - loss: 0.0018 - acc: 0.9997 - val_loss: 7.5914e-05 - val_acc: 1.0000\n",
            "Epoch 13/20\n",
            " - 56s - loss: 0.0012 - acc: 0.9997 - val_loss: 1.6106e-04 - val_acc: 1.0000\n",
            "Epoch 14/20\n",
            " - 55s - loss: 0.0016 - acc: 0.9997 - val_loss: 2.2303e-04 - val_acc: 1.0000\n",
            "Epoch 15/20\n",
            " - 56s - loss: 0.0016 - acc: 0.9997 - val_loss: 7.5738e-04 - val_acc: 0.9998\n",
            "Epoch 16/20\n",
            " - 56s - loss: 0.0011 - acc: 0.9997 - val_loss: 0.0021 - val_acc: 0.9992\n",
            "Epoch 17/20\n",
            " - 55s - loss: 0.0015 - acc: 0.9997 - val_loss: 6.4791e-04 - val_acc: 0.9998\n",
            "Epoch 18/20\n",
            " - 56s - loss: 0.0020 - acc: 0.9997 - val_loss: 8.0235e-05 - val_acc: 1.0000\n",
            "Epoch 19/20\n",
            " - 56s - loss: 0.0012 - acc: 0.9998 - val_loss: 0.0017 - val_acc: 1.0000\n",
            "Epoch 20/20\n",
            " - 56s - loss: 0.0014 - acc: 0.9997 - val_loss: 2.8741e-04 - val_acc: 1.0000\n",
            "Fitting Catboost Classifier model with oversample data from SMOTE X_train, y_train took :1113.571147441864 sec\n"
          ],
          "name": "stdout"
        }
      ]
    },
    {
      "cell_type": "code",
      "metadata": {
        "id": "5SP-dwfCwtB2",
        "colab_type": "code",
        "colab": {}
      },
      "source": [
        "nn_model_predictions = nn_model.predict(original_Xtest, batch_size=200, verbose=0)\n",
        "nn_model_fraud_predictions = nn_model.predict_classes(original_Xtest, batch_size=200, verbose=0)\n"
      ],
      "execution_count": 0,
      "outputs": []
    },
    {
      "cell_type": "code",
      "metadata": {
        "id": "jHujCE6tw0P7",
        "colab_type": "code",
        "outputId": "d868d88a-8f15-4b92-87ed-a31dca3ad6f8",
        "colab": {
          "base_uri": "https://localhost:8080/",
          "height": 451
        }
      },
      "source": [
        "nn_cm = confusion_matrix(original_ytest, nn_model_fraud_predictions)\n",
        "actual_cm = confusion_matrix(original_ytest, original_ytest)\n",
        "labels = ['No Fraud', 'Fraud']\n",
        "\n",
        "fig = plt.figure(figsize=(16,8))\n",
        "\n",
        "fig.add_subplot(221)\n",
        "plot_confusion_matrix(nn_cm, labels, title=\"Random UnderSample \\n Confusion Matrix\", cmap=plt.cm.Reds)\n",
        "\n",
        "fig.add_subplot(222)\n",
        "plot_confusion_matrix(actual_cm, labels, title=\"Confusion Matrix \\n (with 100% accuracy)\", cmap=plt.cm.Greens)"
      ],
      "execution_count": 0,
      "outputs": [
        {
          "output_type": "stream",
          "text": [
            "Confusion matrix, without normalization\n",
            "[[56849    14]\n",
            " [   29    69]]\n",
            "Confusion matrix, without normalization\n",
            "[[56863     0]\n",
            " [    0    98]]\n"
          ],
          "name": "stdout"
        },
        {
          "output_type": "display_data",
          "data": {
            "image/png": "[encoded data removed]",
            "text/plain": [
              "<Figure size 1152x576 with 4 Axes>"
            ]
          },
          "metadata": {
            "tags": []
          }
        }
      ]
    },
    {
      "cell_type": "code",
      "metadata": {
        "id": "O5JG5wm5sIzA",
        "colab_type": "code",
        "outputId": "d73c5ba9-da91-4f0b-e2c0-efd527d74b18",
        "colab": {
          "base_uri": "https://localhost:8080/",
          "height": 204
        }
      },
      "source": [
        "\n",
        "print('Neural Network AUC score:', roc_auc_score(original_ytest, nn_model_fraud_predictions))\n",
        "\n",
        "\n",
        "print('Neural Network Classification Report:')\n",
        "\n",
        "\n",
        "print(classification_report(original_ytest, nn_model_fraud_predictions))\n"
      ],
      "execution_count": 0,
      "outputs": [
        {
          "output_type": "stream",
          "text": [
            "Neural Network AUC score: 0.8519177134300953\n",
            "Neural Network Classification Report:\n",
            "              precision    recall  f1-score   support\n",
            "\n",
            "           0       1.00      1.00      1.00     56863\n",
            "           1       0.83      0.70      0.76        98\n",
            "\n",
            "    accuracy                           1.00     56961\n",
            "   macro avg       0.92      0.85      0.88     56961\n",
            "weighted avg       1.00      1.00      1.00     56961\n",
            "\n"
          ],
          "name": "stdout"
        }
      ]
    },
    {
      "cell_type": "code",
      "metadata": {
        "id": "4YTnyIuWsnfZ",
        "colab_type": "code",
        "outputId": "d3927f3c-c0dc-47a0-c998-70f363205a96",
        "colab": {
          "base_uri": "https://localhost:8080/",
          "height": 789
        }
      },
      "source": [
        "catboost_cm = confusion_matrix(original_ytest, catboost_pred)\n",
        "log_reg_cm = confusion_matrix(original_ytest, log_reg_pred)\n",
        "nn_cm = confusion_matrix(original_ytest, nn_model_fraud_predictions)\n",
        "actual_cm = confusion_matrix(original_ytest, original_ytest)\n",
        "labels = ['No Fraud', 'Fraud']\n",
        "\n",
        "fig = plt.figure(figsize=(16,8))\n",
        "\n",
        "fig.add_subplot(221)\n",
        "plot_confusion_matrix(catboost_cm, labels, title=\"CatBoost \\n Confusion Matrix\", cmap=plt.cm.Oranges)\n",
        "\n",
        "fig.add_subplot(222)\n",
        "plot_confusion_matrix(log_reg_cm, labels, title=\"Log_Regression model \\n Confusion Matrix \", cmap=plt.cm.Greens)\n",
        "\n",
        "fig.add_subplot(223)\n",
        "plot_confusion_matrix(nn_cm, labels, title=\"Neural Network model \\n Confusion Matrix \", cmap=plt.cm.Greens)\n",
        "\n",
        "\n",
        "fig.add_subplot(224)\n",
        "plot_confusion_matrix(actual_cm, labels, title=\"Actual Values (100% acc) \\n Confusion Matrix \", cmap=plt.cm.Greens)"
      ],
      "execution_count": 0,
      "outputs": [
        {
          "output_type": "stream",
          "text": [
            "Confusion matrix, without normalization\n",
            "[[56856     7]\n",
            " [   33    65]]\n",
            "Confusion matrix, without normalization\n",
            "[[55505  1358]\n",
            " [   13    85]]\n",
            "Confusion matrix, without normalization\n",
            "[[56849    14]\n",
            " [   29    69]]\n",
            "Confusion matrix, without normalization\n",
            "[[56863     0]\n",
            " [    0    98]]\n"
          ],
          "name": "stdout"
        },
        {
          "output_type": "display_data",
          "data": {
            "image/png": "[encoded data removed]",
            "text/plain": [
              "<Figure size 1152x576 with 8 Axes>"
            ]
          },
          "metadata": {
            "tags": []
          }
        }
      ]
    },
    {
      "cell_type": "code",
      "metadata": {
        "id": "fq0RyCeG34Xx",
        "colab_type": "code",
        "outputId": "b1f0d998-090d-47e7-f31a-ef896b9f56d7",
        "colab": {
          "base_uri": "https://localhost:8080/",
          "height": 102
        }
      },
      "source": [
        "print('CatBoostClassifer AUC score: ', roc_auc_score(original_ytest, catboost_pred))\n",
        "\n",
        "\n",
        "print(\"-\"*10)\n",
        "\n",
        "print('NN model ROC AUC score: ', roc_auc_score(original_ytest, nn_model_fraud_predictions))\n",
        "\n",
        "print(\"-\"*10)\n",
        "print('Log Reg model ROC AUC score: ', roc_auc_score(original_ytest, log_reg_pred))\n"
      ],
      "execution_count": 0,
      "outputs": [
        {
          "output_type": "stream",
          "text": [
            "CatBoostClassifer AUC score:  0.8315711016130068\n",
            "----------\n",
            "NN model ROC AUC score:  0.8519177134300953\n",
            "----------\n",
            "Log Reg model ROC AUC score:  0.9217324884335317\n"
          ],
          "name": "stdout"
        }
      ]
    },
    {
      "cell_type": "code",
      "metadata": {
        "id": "2MxtP3Xq5raN",
        "colab_type": "code",
        "outputId": "1c608919-f8dc-43b5-a3e0-4383c8fd4c2f",
        "colab": {
          "base_uri": "https://localhost:8080/",
          "height": 1000
        }
      },
      "source": [
        "!pip install lightgbm\n",
        "from sklearn.metrics import confusion_matrix,accuracy_score, roc_curve, auc\n",
        "sns.set_style(\"whitegrid\")\n",
        "\n",
        "import lightgbm as lgb\n",
        "from sklearn.model_selection import  GridSearchCV\n",
        "#------------------------Build LightGBM Model-----------------------\n",
        "train_data=lgb.Dataset(Xsm_train, label=ysm_train)\n",
        "\n",
        "#Select Hyper-Parameters\n",
        "params = {'boosting_type': 'gbdt',\n",
        "          'max_depth' : -1,\n",
        "          'objective': 'binary',\n",
        "          'nthread': 5,\n",
        "          'num_leaves': 64,\n",
        "          'learning_rate': 0.07,\n",
        "          'max_bin': 512,\n",
        "          'subsample_for_bin': 200,\n",
        "          'subsample': 1,\n",
        "          'subsample_freq': 1,\n",
        "          'colsample_bytree': 0.8,\n",
        "          'reg_alpha': 1.2,\n",
        "          'reg_lambda': 1.2,\n",
        "          'min_split_gain': 0.5,\n",
        "          'min_child_weight': 1,\n",
        "          'min_child_samples': 5,\n",
        "          'scale_pos_weight': 1,\n",
        "          'num_class' : 1,\n",
        "          'metric' : 'binary_error'\n",
        "          }\n",
        "\n",
        "# Create parameters to search\n",
        "gridParams = {\n",
        "    'learning_rate': [0.07],\n",
        "    'n_estimators': [8,16],\n",
        "    'num_leaves': [20, 24, 27],\n",
        "    'boosting_type' : ['gbdt'],\n",
        "    'objective' : ['binary'],\n",
        "    'random_state' : [501], \n",
        "    'colsample_bytree' : [0.64, 0.65],\n",
        "    'subsample' : [0.7,0.75],\n",
        "    #'reg_alpha' : [1, 1.2],\n",
        "    #'reg_lambda' : [ 1.2, 1.4],\n",
        "    }\n",
        "\n",
        "# Create classifier to use\n",
        "mdl = lgb.LGBMClassifier(boosting_type= 'gbdt',\n",
        "          objective = 'binary',\n",
        "          n_jobs = 5, \n",
        "          silent = True,\n",
        "          max_depth = params['max_depth'],\n",
        "          max_bin = params['max_bin'],\n",
        "          subsample_for_bin = params['subsample_for_bin'],\n",
        "          subsample = params['subsample'],\n",
        "          subsample_freq = params['subsample_freq'],\n",
        "          min_split_gain = params['min_split_gain'],\n",
        "          min_child_weight = params['min_child_weight'],\n",
        "          min_child_samples = params['min_child_samples'],\n",
        "          scale_pos_weight = params['scale_pos_weight'])\n",
        "\n",
        "# View the default model params:\n",
        "mdl.get_params().keys()\n",
        "\n",
        "# Create the grid\n",
        "grid = GridSearchCV(mdl, gridParams, verbose=2, cv=4, n_jobs=-1)\n",
        "\n",
        "# Run the grid\n",
        "grid.fit(Xsm_train, ysm_train)\n",
        "\n",
        "# Print the best parameters found\n",
        "print(grid.best_params_)\n",
        "print(grid.best_score_)\n",
        "\n",
        "# Using parameters already set above, replace in the best from the grid search\n",
        "params['colsample_bytree'] = grid.best_params_['colsample_bytree']\n",
        "params['learning_rate'] = grid.best_params_['learning_rate']\n",
        "# params['max_bin'] = grid.best_params_['max_bin']\n",
        "params['num_leaves'] = grid.best_params_['num_leaves']\n",
        "#params['reg_alpha'] = grid.best_params_['reg_alpha']\n",
        "#params['reg_lambda'] = grid.best_params_['reg_lambda']\n",
        "params['subsample'] = grid.best_params_['subsample']\n",
        "# params['subsample_for_bin'] = grid.best_params_['subsample_for_bin']\n",
        "\n",
        "print('Fitting with params: ')\n",
        "print(params)\n",
        "\n",
        "#Train model on selected parameters and number of iterations\n",
        "lgbm = lgb.train(params,\n",
        "                 train_data,\n",
        "                 280,\n",
        "                 #early_stopping_rounds= 40,\n",
        "                 verbose_eval= 4\n",
        "                 )\n",
        "\n",
        "#Predict on test set\n",
        "predictions_lgbm_prob = lgbm.predict(original_Xtest)\n",
        "predictions_lgbm_01 = np.where(predictions_lgbm_prob > 0.5, 1, 0) #Turn probability to 0-1 binary output\n",
        "\n",
        "#--------------------------Print accuracy measures and variable importances----------------------\n",
        "#Plot Variable Importances\n",
        "lgb.plot_importance(lgbm, max_num_features=21, importance_type='split')\n",
        "\n",
        "#Print accuracy\n",
        "acc_lgbm = accuracy_score(original_ytest, predictions_lgbm_01)\n",
        "print('Overall accuracy of Light GBM model:', acc_lgbm)\n",
        "\n",
        "#Print Area Under Curve\n",
        "plt.figure()\n",
        "false_positive_rate, recall, thresholds = roc_curve(original_ytest, predictions_lgbm_prob)\n",
        "roc_auc = auc(false_positive_rate, recall)\n",
        "plt.title('Receiver Operating Characteristic (ROC)')\n",
        "plt.plot(false_positive_rate, recall, 'b', label = 'AUC = %0.3f' %roc_auc)\n",
        "plt.legend(loc='lower right')\n",
        "plt.plot([0,1], [0,1], 'r--')\n",
        "plt.xlim([0.0,1.0])\n",
        "plt.ylim([0.0,1.0])\n",
        "plt.ylabel('Recall')\n",
        "plt.xlabel('Fall-out (1-Specificity)')\n",
        "plt.show()\n",
        "\n",
        "print('AUC score:', roc_auc)\n",
        "\n",
        "#Print Confusion Matrix\n",
        "plt.figure()\n",
        "cm = confusion_matrix(original_ytest, predictions_lgbm_01)\n",
        "labels = ['No Default', 'Default']\n",
        "plt.figure(figsize=(8,6))\n",
        "sns.heatmap(cm, xticklabels = labels, yticklabels = labels, annot = True, fmt='d', cmap=\"Blues\", vmin = 0.2);\n",
        "plt.title('Confusion Matrix')\n",
        "plt.ylabel('True Class')\n",
        "plt.xlabel('Predicted Class')\n",
        "plt.show()"
      ],
      "execution_count": 0,
      "outputs": [
        {
          "output_type": "stream",
          "text": [
            "Requirement already satisfied: lightgbm in /usr/local/lib/python3.6/dist-packages (2.2.3)\n",
            "Requirement already satisfied: scikit-learn in /usr/local/lib/python3.6/dist-packages (from lightgbm) (0.21.3)\n",
            "Requirement already satisfied: numpy in /usr/local/lib/python3.6/dist-packages (from lightgbm) (1.16.4)\n",
            "Requirement already satisfied: scipy in /usr/local/lib/python3.6/dist-packages (from lightgbm) (1.3.1)\n",
            "Requirement already satisfied: joblib>=0.11 in /usr/local/lib/python3.6/dist-packages (from scikit-learn->lightgbm) (0.13.2)\n",
            "Fitting 4 folds for each of 24 candidates, totalling 96 fits\n"
          ],
          "name": "stdout"
        },
        {
          "output_type": "stream",
          "text": [
            "[Parallel(n_jobs=-1)]: Using backend LokyBackend with 2 concurrent workers.\n",
            "[Parallel(n_jobs=-1)]: Done  37 tasks      | elapsed:   48.6s\n",
            "[Parallel(n_jobs=-1)]: Done  96 out of  96 | elapsed:  2.1min finished\n"
          ],
          "name": "stderr"
        },
        {
          "output_type": "stream",
          "text": [
            "{'boosting_type': 'gbdt', 'colsample_bytree': 0.64, 'learning_rate': 0.07, 'n_estimators': 8, 'num_leaves': 27, 'objective': 'binary', 'random_state': 501, 'subsample': 0.7}\n",
            "0.8460114661554965\n",
            "Fitting with params: \n",
            "{'boosting_type': 'gbdt', 'max_depth': -1, 'objective': 'binary', 'nthread': 5, 'num_leaves': 27, 'learning_rate': 0.07, 'max_bin': 512, 'subsample_for_bin': 200, 'subsample': 0.7, 'subsample_freq': 1, 'colsample_bytree': 0.64, 'reg_alpha': 1.2, 'reg_lambda': 1.2, 'min_split_gain': 0.5, 'min_child_weight': 1, 'min_child_samples': 5, 'scale_pos_weight': 1, 'num_class': 1, 'metric': 'binary_error'}\n",
            "Overall accuracy of Light GBM model: 0.999420656238479\n"
          ],
          "name": "stdout"
        },
        {
          "output_type": "display_data",
          "data": {
            "image/png": "[encoded data removed]",
            "text/plain": [
              "<Figure size 432x288 with 1 Axes>"
            ]
          },
          "metadata": {
            "tags": []
          }
        },
        {
          "output_type": "display_data",
          "data": {
            "image/png": "[encoded data removed]",
            "text/plain": [
              "<Figure size 432x288 with 1 Axes>"
            ]
          },
          "metadata": {
            "tags": []
          }
        },
        {
          "output_type": "stream",
          "text": [
            "AUC score: 0.977982706017004\n"
          ],
          "name": "stdout"
        },
        {
          "output_type": "display_data",
          "data": {
            "text/plain": [
              "<Figure size 432x288 with 0 Axes>"
            ]
          },
          "metadata": {
            "tags": []
          }
        },
        {
          "output_type": "display_data",
          "data": {
            "image/png": "[encoded data removed]",
            "text/plain": [
              "<Figure size 576x432 with 2 Axes>"
            ]
          },
          "metadata": {
            "tags": []
          }
        }
      ]
    },
    {
      "cell_type": "code",
      "metadata": {
        "id": "ga9YL_pHBDVt",
        "colab_type": "code",
        "colab": {
          "base_uri": "https://localhost:8080/",
          "height": 68
        },
        "outputId": "80dd8b52-3321-46c2-f9ee-d8c80cffb196"
      },
      "source": [
        "!pip install xgboost\n",
        "from xgboost import XGBClassifier\n",
        "from sklearn.model_selection import cross_val_score"
      ],
      "execution_count": 60,
      "outputs": [
        {
          "output_type": "stream",
          "text": [
            "Requirement already satisfied: xgboost in /usr/local/lib/python3.6/dist-packages (0.90)\n",
            "Requirement already satisfied: numpy in /usr/local/lib/python3.6/dist-packages (from xgboost) (1.16.4)\n",
            "Requirement already satisfied: scipy in /usr/local/lib/python3.6/dist-packages (from xgboost) (1.3.1)\n"
          ],
          "name": "stdout"
        }
      ]
    },
    {
      "cell_type": "code",
      "metadata": {
        "id": "D9P3miIKCsVw",
        "colab_type": "code",
        "colab": {
          "base_uri": "https://localhost:8080/",
          "height": 68
        },
        "outputId": "736a59b6-2dab-402f-8942-f241463d2563"
      },
      "source": [
        "\n",
        "\n",
        "print(\"starting training\")\n",
        "model = XGBClassifier()\n",
        "kfold = StratifiedKFold(n_splits=5, random_state=7)\n",
        "t0 = time.time()\n",
        "# use area under the precision-recall curve to show classification accuracy\n",
        "scoring = 'roc_auc'\n",
        "results = cross_val_score(model, Xsm_train, ysm_train, cv=kfold, scoring = scoring)\n",
        "t1 = time.time()\n",
        "\n",
        "\n",
        "print(\"Fitting XGBoost with data from SMOTE X_train, y_train took :{} sec\".format(t1 - t0))\n",
        "print( \"AUC: %.3f (%.3f)\" % (results.mean(), results.std()) )"
      ],
      "execution_count": 63,
      "outputs": [
        {
          "output_type": "stream",
          "text": [
            "starting training\n",
            "Fitting XGBoost with data from SMOTE X_train, y_train took :479.4112627506256 sec\n",
            "AUC: 0.990 (0.005)\n"
          ],
          "name": "stdout"
        }
      ]
    },
    {
      "cell_type": "code",
      "metadata": {
        "id": "yI-kmShYJ-zs",
        "colab_type": "code",
        "colab": {}
      },
      "source": [
        "model = XGBClassifier()\n",
        "model.fit(Xsm_train, ysm_train)\n",
        "XGB_pred = model.predict(original_Xtest)"
      ],
      "execution_count": 0,
      "outputs": []
    },
    {
      "cell_type": "code",
      "metadata": {
        "id": "YwhMGOQBCvqg",
        "colab_type": "code",
        "colab": {}
      },
      "source": [
        "# change size of Matplotlib plot\n",
        "fig_size = plt.rcParams[\"figure.figsize\"] # Get current size\n",
        "\n",
        "old_fig_params = fig_size\n",
        "# new figure parameters\n",
        "fig_size[0] = 12\n",
        "fig_size[1] = 9\n",
        "   \n",
        "plt.rcParams[\"figure.figsize\"] = fig_size # set new size"
      ],
      "execution_count": 0,
      "outputs": []
    },
    {
      "cell_type": "code",
      "metadata": {
        "id": "qKyoBRbyMOJ7",
        "colab_type": "code",
        "colab": {
          "base_uri": "https://localhost:8080/",
          "height": 170
        },
        "outputId": "36697055-7d38-4379-f114-abe472037bda"
      },
      "source": [
        "print('CatBoostClassifer AUC score: ', roc_auc_score(original_ytest, catboost_pred))\n",
        "\n",
        "\n",
        "print(\"-\"*10)\n",
        "\n",
        "print('NN model ROC AUC score: ', roc_auc_score(original_ytest, nn_model_fraud_predictions))\n",
        "\n",
        "print(\"-\"*10)\n",
        "print('Log Reg model ROC AUC score: ', roc_auc_score(original_ytest, log_reg_pred))\n",
        "\n",
        "print(\"-\"*10)\n",
        "print('LGBM model ROC AUC score: ', roc_auc_score(original_ytest, predictions_lgbm_01))\n",
        "\n",
        "print(\"-\"*10)\n",
        "print('XGBoost model ROC AUC score: ', roc_auc_score(original_ytest, XGB_pred))\n",
        "\n"
      ],
      "execution_count": 96,
      "outputs": [
        {
          "output_type": "stream",
          "text": [
            "CatBoostClassifer AUC score:  0.8315711016130068\n",
            "----------\n",
            "NN model ROC AUC score:  0.8519177134300953\n",
            "----------\n",
            "Log Reg model ROC AUC score:  0.9217324884335317\n",
            "----------\n",
            "LGBM model ROC AUC score:  0.8621921395749972\n",
            "----------\n",
            "XGBoost model ROC AUC score:  0.8975547027280392\n"
          ],
          "name": "stdout"
        }
      ]
    },
    {
      "cell_type": "code",
      "metadata": {
        "id": "bb2QjUdhJVtj",
        "colab_type": "code",
        "colab": {}
      },
      "source": [
        "from sklearn.metrics import roc_curve\n",
        "from sklearn.model_selection import cross_val_predict\n",
        "\n",
        "cat_fpr, cat_tpr, cat_threshold = roc_curve(original_ytest, catboost_pred)\n",
        "log_fpr, log_tpr, log_threshold = roc_curve(original_ytest, log_reg_pred)\n",
        "nn_fpr, nn_tpr, nn_threshold = roc_curve(original_ytest, nn_model_fraud_predictions)\n",
        "lgbm_fpr, lgbm_tpr, lgbm_threshold = roc_curve(original_ytest, predictions_lgbm_01)\n",
        "xgb_fpr, xgb_tpr, xgb_threshold = roc_curve(original_ytest, XGB_pred)\n",
        "\n"
      ],
      "execution_count": 0,
      "outputs": []
    },
    {
      "cell_type": "code",
      "metadata": {
        "id": "_VwuCHt7C_Yb",
        "colab_type": "code",
        "colab": {
          "base_uri": "https://localhost:8080/",
          "height": 543
        },
        "outputId": "761d86f9-d5e4-42d3-8202-620e0961c763"
      },
      "source": [
        "def graph_roc_curve_multiple(cat_fpr, cat_tpr, log_fpr, log_tpr, nn_fpr, nn_tpr, lgbm_fpr, lgbm_tpr, xgb_fpr, xgb_tpr):\n",
        "    plt.figure(figsize=(16,8))\n",
        "    plt.title('ROC Curve \\n Top 5 Classifiers', fontsize=18)\n",
        "    plt.plot(cat_fpr, cat_tpr, label='Catboost Classifier Score: {:.4f}'.format(roc_auc_score(original_ytest, catboost_pred)))\n",
        "\n",
        "    plt.plot(log_fpr, log_tpr, label='Logistic Regression Classifier Score: {:.4f}'.format(roc_auc_score(original_ytest, log_reg_pred)))\n",
        "    plt.plot(xgb_fpr, xgb_tpr, label='XGBoost Classifier Score: {:.4f}'.format(roc_auc_score(original_ytest, XGB_pred)))\n",
        "    plt.plot(nn_fpr, nn_tpr, label='Neural Netwok Classifier Score: {:.4f}'.format(roc_auc_score(original_ytest, nn_model_fraud_predictions)))\n",
        "    plt.plot(lgbm_fpr, lgbm_tpr, label='LightGBM Score: {:.4f}'.format(roc_auc_score(original_ytest, predictions_lgbm_01)))\n",
        "    plt.plot([0, 1], [0, 1], 'k--')\n",
        "    plt.axis([-0.01, 1, 0, 1])\n",
        "    plt.xlabel('False Positive Rate', fontsize=16)\n",
        "    plt.ylabel('True Positive Rate', fontsize=16)\n",
        "    plt.annotate('Minimum ROC Score of 50% \\n (This is the minimum score to get)', xy=(0.5, 0.5), xytext=(0.6, 0.3),\n",
        "                arrowprops=dict(facecolor='#6E726D', shrink=0.05),\n",
        "                )\n",
        "    plt.legend()\n",
        "    \n",
        "graph_roc_curve_multiple(cat_fpr, cat_tpr, log_fpr, log_tpr, nn_fpr, nn_tpr, lgbm_fpr, lgbm_tpr, xgb_fpr, xgb_tpr)\n",
        "plt.show()"
      ],
      "execution_count": 93,
      "outputs": [
        {
          "output_type": "display_data",
          "data": {
            "image/png": "[encoded data removed]",
            "text/plain": [
              "<Figure size 1152x576 with 1 Axes>"
            ]
          },
          "metadata": {
            "tags": []
          }
        }
      ]
    },
    {
      "cell_type": "code",
      "metadata": {
        "id": "sZJNthohLPex",
        "colab_type": "code",
        "colab": {
          "base_uri": "https://localhost:8080/",
          "height": 102
        },
        "outputId": "db6f53f2-5897-467a-d775-3de3898a87fa"
      },
      "source": [
        "\n",
        "print('Logistic Regression: ', roc_auc_score(original_ytest, log_reg_pred))\n",
        "print('CatBoost Classifier: ', roc_auc_score(original_ytest, catboost_pred))\n",
        "print('Neural Network: ', roc_auc_score(original_ytest, nn_model_fraud_predictions))\n",
        "print('LightGBM: ', roc_auc_score(original_ytest, predictions_lgbm_01))\n",
        "print('Decision Tree Classifier: ', roc_auc_score(original_ytest, XGB_pred))"
      ],
      "execution_count": 95,
      "outputs": [
        {
          "output_type": "stream",
          "text": [
            "Logistic Regression:  0.9217324884335317\n",
            "CatBoost Classifier:  0.8315711016130068\n",
            "Neural Network:  0.8519177134300953\n",
            "LightGBM:  0.8621921395749972\n",
            "Decision Tree Classifier:  0.8975547027280392\n"
          ],
          "name": "stdout"
        }
      ]
    }
  ]
}